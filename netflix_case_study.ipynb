{
 "cells": [
  {
   "cell_type": "markdown",
   "id": "13b5e3e2",
   "metadata": {},
   "source": [
    "# NETFLIX Case Study"
   ]
  },
  {
   "cell_type": "markdown",
   "id": "59d23ad2",
   "metadata": {},
   "source": [
    "### This case study is to analyse the Movies and TV shows on Netfilx.\n",
    "### Insights from the data ananlysis and the recomendations could help Netflix in deciding which type of shows/movies to release on the OTT platform and how they can grow the business in different countries"
   ]
  },
  {
   "cell_type": "markdown",
   "id": "05485ccd",
   "metadata": {},
   "source": [
    "## Importing libraries"
   ]
  },
  {
   "cell_type": "code",
   "execution_count": 1,
   "id": "87516a60",
   "metadata": {},
   "outputs": [],
   "source": [
    "import pandas as pd\n",
    "import numpy as np\n",
    "import random\n",
    "import matplotlib.pyplot as plt\n",
    "from matplotlib.pyplot import figure\n",
    "import seaborn as sns\n",
    "import warnings\n",
    "warnings.simplefilter(action='ignore',category=FutureWarning)"
   ]
  },
  {
   "cell_type": "markdown",
   "id": "0e35b0a9",
   "metadata": {},
   "source": [
    "#### Bar plot formate"
   ]
  },
  {
   "cell_type": "code",
   "execution_count": 2,
   "id": "3b781563",
   "metadata": {},
   "outputs": [],
   "source": [
    "def show_values_on_bars(axs, h_v=\"v\", space=1):\n",
    "    def _show_on_single_plot(ax):\n",
    "        if h_v == \"v\":\n",
    "            for p in ax.patches:\n",
    "                _x = p.get_x() + p.get_width() / 2\n",
    "                _y = p.get_y() + p.get_height()\n",
    "                value = int(p.get_height())\n",
    "                ax.text(_x, _y, value, ha=\"center\")\n",
    "        elif h_v == \"h\":\n",
    "            for p in ax.patches:\n",
    "                _x = p.get_x() + p.get_width() + float(space)\n",
    "                _y = p.get_y() + p.get_height()\n",
    "                value = int(p.get_width())\n",
    "                ax.text(_x, _y, value, ha=\"left\")\n",
    "                \n",
    "    if isinstance(axs, np.ndarray):\n",
    "        for idx, ax in np.ndenumerate(axs):\n",
    "            _show_on_single_plot(ax)\n",
    "    else:\n",
    "        _show_on_single_plot(axs)"
   ]
  },
  {
   "cell_type": "markdown",
   "id": "909e2249",
   "metadata": {},
   "source": [
    "#### Reading file and preparing window"
   ]
  },
  {
   "cell_type": "code",
   "execution_count": 3,
   "id": "d78dd23b",
   "metadata": {},
   "outputs": [],
   "source": [
    "# reading data and getting pd window ready\n",
    "df = pd.read_csv('Nextflix.csv')\n",
    "pd.set_option('display.width', 1000)\n",
    "pd.set_option('display.max_columns', 120)\n",
    "pd.set_option('display.max_row', 4000)"
   ]
  },
  {
   "cell_type": "markdown",
   "id": "75d0d29b",
   "metadata": {},
   "source": [
    "## Getting starter information"
   ]
  },
  {
   "cell_type": "code",
   "execution_count": 4,
   "id": "6279926c",
   "metadata": {},
   "outputs": [
    {
     "name": "stdout",
     "output_type": "stream",
     "text": [
      "Netflix case study, shape is (8807, 13)\n",
      "\n",
      "\n",
      "Netflix case study basic information\n",
      "\n",
      "<class 'pandas.core.frame.DataFrame'>\n",
      "RangeIndex: 8807 entries, 0 to 8806\n",
      "Data columns (total 13 columns):\n",
      " #   Column        Non-Null Count  Dtype \n",
      "---  ------        --------------  ----- \n",
      " 0   Unnamed: 0    8807 non-null   int64 \n",
      " 1   show_id       8807 non-null   object\n",
      " 2   type          8807 non-null   object\n",
      " 3   title         8807 non-null   object\n",
      " 4   director      6173 non-null   object\n",
      " 5   cast          7982 non-null   object\n",
      " 6   country       7976 non-null   object\n",
      " 7   date_added    8797 non-null   object\n",
      " 8   release_year  8807 non-null   int64 \n",
      " 9   rating        8803 non-null   object\n",
      " 10  duration      8804 non-null   object\n",
      " 11  listed_in     8807 non-null   object\n",
      " 12  description   8807 non-null   object\n",
      "dtypes: int64(2), object(11)\n",
      "memory usage: 894.6+ KB\n",
      "None\n",
      "\n",
      "\n",
      "Netflix case study Null value count percentage:\n",
      "\n",
      "Unnamed: 0       0.000000\n",
      "show_id          0.000000\n",
      "type             0.000000\n",
      "title            0.000000\n",
      "director        29.908028\n",
      "cast             9.367549\n",
      "country          9.435676\n",
      "date_added       0.113546\n",
      "release_year     0.000000\n",
      "rating           0.045418\n",
      "duration         0.034064\n",
      "listed_in        0.000000\n",
      "description      0.000000\n",
      "dtype: float64\n",
      "\n",
      "\n",
      "Netflix case study Description:\n",
      "\n",
      "        Unnamed: 0  release_year\n",
      "count  8807.000000   8807.000000\n",
      "mean   4403.000000   2014.180198\n",
      "std    2542.506244      8.819312\n",
      "min       0.000000   1925.000000\n",
      "25%    2201.500000   2013.000000\n",
      "50%    4403.000000   2017.000000\n",
      "75%    6604.500000   2019.000000\n",
      "max    8806.000000   2021.000000\n",
      "\n",
      "\n",
      "Netflix case study Deep Description:\n",
      "\n",
      "            count unique                                                top  freq\n",
      "show_id      8807   8807                                                 s1     1\n",
      "type         8807      2                                              Movie  6131\n",
      "title        8807   8807                               Dick Johnson Is Dead     1\n",
      "director     6173   4528                                      Rajiv Chilaka    19\n",
      "cast         7982   7692                                 David Attenborough    19\n",
      "country      7976    748                                      United States  2818\n",
      "date_added   8797   1767                                    January 1, 2020   109\n",
      "rating       8803     17                                              TV-MA  3207\n",
      "duration     8804    220                                           1 Season  1793\n",
      "listed_in    8807    514                       Dramas, International Movies   362\n",
      "description  8807   8775  Paranormal activity at a lush, abandoned prope...     4\n",
      "\n",
      "\n",
      "Netflix case study Duplicate values:\n",
      "\n",
      "\n",
      "Netflix case study Duplicate values:\n",
      "\n",
      "Empty DataFrame\n",
      "Columns: [Unnamed: 0, show_id, type, title, director, cast, country, date_added, release_year, rating, duration, listed_in, description]\n",
      "Index: []\n"
     ]
    }
   ],
   "source": [
    "# getting starter information\n",
    "\"\"\"\n",
    "* data shape\n",
    "* data info\n",
    "* data head\n",
    "* data tail\n",
    "* missing values\n",
    "* data description\n",
    "* check duplicates\n",
    "* drop duplicates\n",
    "* drop unnecessary columns\n",
    "\"\"\"\n",
    "cs_name = 'Netflix case study'\n",
    "print(f'{cs_name}, shape is {df.shape}')\n",
    "print()\n",
    "print()\n",
    "print(f\"{cs_name} basic information\")\n",
    "print()\n",
    "print(df.info())\n",
    "print()\n",
    "print()\n",
    "print(f\"{cs_name} Null value count percentage:\")\n",
    "print()\n",
    "print(df.isnull().sum(axis=0)/len(df)*100)\n",
    "print()\n",
    "print()\n",
    "print(f\"{cs_name} Description:\")\n",
    "print()\n",
    "print(df.describe())\n",
    "print()\n",
    "print()\n",
    "print(f\"{cs_name} Deep Description:\")\n",
    "print()\n",
    "print(df.describe(include='object').T)\n",
    "print()\n",
    "print()\n",
    "print(f\"{cs_name} Duplicate values:\")\n",
    "print()\n",
    "print()\n",
    "print(f\"{cs_name} Duplicate values:\")\n",
    "print()\n",
    "print(df.loc[df.duplicated()])\n"
   ]
  },
  {
   "cell_type": "markdown",
   "id": "c7806cf0",
   "metadata": {},
   "source": [
    "# Cleaning the data"
   ]
  },
  {
   "cell_type": "markdown",
   "id": "59975832",
   "metadata": {},
   "source": [
    "### Dropping unnecessary columns"
   ]
  },
  {
   "cell_type": "code",
   "execution_count": 5,
   "id": "6c31f450",
   "metadata": {},
   "outputs": [],
   "source": [
    "# dropping unnecessary columns\n",
    "df.drop(\"description\", axis=1, inplace=True)"
   ]
  },
  {
   "cell_type": "markdown",
   "id": "511fef44",
   "metadata": {},
   "source": [
    "### Filling NA with Unknow"
   ]
  },
  {
   "cell_type": "code",
   "execution_count": 6,
   "id": "817a581e",
   "metadata": {},
   "outputs": [],
   "source": [
    "# fill na with unknow\n",
    "\n",
    "df[\"director\"].fillna(value=\"Unknown\", inplace=True)\n",
    "df[\"cast\"].fillna(value=\"Unknown\", inplace=True)\n",
    "df[\"country\"].fillna(value=\"Unknown\",inplace=True)"
   ]
  },
  {
   "cell_type": "markdown",
   "id": "20e7e46c",
   "metadata": {},
   "source": [
    "### Datetime formate change in date columns"
   ]
  },
  {
   "cell_type": "code",
   "execution_count": 7,
   "id": "07182bfc",
   "metadata": {},
   "outputs": [],
   "source": [
    "# datetime formate change in date columns\n",
    "df['date_added'] = pd.DatetimeIndex(df['date_added'])\n",
    "\n",
    "# released year to int type\n",
    "a = df['release_year'].to_list()\n",
    "a = np.array(a, dtype= int)\n",
    "df['release_year'] = a\n",
    "\n",
    "# making new column year added\n",
    "df['year_added'] = pd.DatetimeIndex(df['date_added']).year\n",
    "\n",
    "# making new column month added\n",
    "df['month_added'] = pd.DatetimeIndex(df['date_added']).month"
   ]
  },
  {
   "cell_type": "markdown",
   "id": "a33cded6",
   "metadata": {},
   "source": [
    "### Cleaning the cat column"
   ]
  },
  {
   "cell_type": "code",
   "execution_count": 8,
   "id": "00bf856c",
   "metadata": {},
   "outputs": [],
   "source": [
    "# cleaning the cast column\n",
    "bulk_cast = df['cast'].apply(lambda x: str(x).split(\", \")).to_list()\n",
    "new_df_cast = pd.DataFrame(bulk_cast, index=df['title'])\n",
    "new_df_cast = new_df_cast.stack()\n",
    "new_df_cast = pd.DataFrame(new_df_cast)\n",
    "new_df_cast.reset_index(inplace=True)\n",
    "new_df_cast = new_df_cast[['title', 0]]\n",
    "new_df_cast.columns = ['title', 'actors']"
   ]
  },
  {
   "cell_type": "markdown",
   "id": "837c4f29",
   "metadata": {},
   "source": [
    "### cleaning listed_in column"
   ]
  },
  {
   "cell_type": "code",
   "execution_count": 9,
   "id": "625a1207",
   "metadata": {},
   "outputs": [],
   "source": [
    "# cleaning list_in\n",
    "bulk_list_in = df['listed_in'].apply(lambda x: str(x).split(\", \")).to_list()\n",
    "new_df_listed_in = pd.DataFrame(bulk_list_in, index=df['title'])\n",
    "new_df_listed_in = new_df_listed_in.stack()\n",
    "new_df_listed_in = pd.DataFrame(new_df_listed_in)\n",
    "new_df_listed_in.reset_index(inplace=True)\n",
    "new_df_listed_in = new_df_listed_in[['title', 0]]\n",
    "new_df_listed_in.columns = ['title', 'genre']"
   ]
  },
  {
   "cell_type": "markdown",
   "id": "c909c033",
   "metadata": {},
   "source": [
    "### Cleaning directors"
   ]
  },
  {
   "cell_type": "code",
   "execution_count": 10,
   "id": "766c7900",
   "metadata": {},
   "outputs": [],
   "source": [
    "# cleaning directors\n",
    "bulk_directors = df['director'].apply(lambda x: str(x).split(\", \")).to_list()\n",
    "new_df_directors = pd.DataFrame(bulk_directors, index=df['title'])\n",
    "new_df_directors = new_df_directors.stack()\n",
    "new_df_directors = pd.DataFrame(new_df_directors)\n",
    "new_df_directors.reset_index(inplace=True)\n",
    "new_df_directors = new_df_directors[['title', 0]]\n",
    "new_df_directors.columns = ['title', 'directors']"
   ]
  },
  {
   "cell_type": "markdown",
   "id": "9eb9bdec",
   "metadata": {},
   "source": [
    "### Cleaning Country"
   ]
  },
  {
   "cell_type": "code",
   "execution_count": 11,
   "id": "b95e636b",
   "metadata": {},
   "outputs": [],
   "source": [
    "# cleaning country\n",
    "bulk_countries = df['country'].apply(lambda x: str(x).split(\", \")).to_list()\n",
    "new_df_country = pd.DataFrame(bulk_countries, index=df['title'])\n",
    "new_df_country = new_df_country.stack()\n",
    "new_df_country = pd.DataFrame(new_df_country)\n",
    "new_df_country.reset_index(inplace=True)\n",
    "new_df_country = new_df_country[['title', 0]]\n",
    "new_df_country.columns = ['title', 'countries']"
   ]
  },
  {
   "cell_type": "markdown",
   "id": "8c545883",
   "metadata": {},
   "source": [
    "### Joing the new DataFrames"
   ]
  },
  {
   "cell_type": "code",
   "execution_count": 12,
   "id": "c5da955f",
   "metadata": {},
   "outputs": [],
   "source": [
    "#joining new DFs\n",
    "merged_one = new_df_cast.merge(new_df_directors, on='title')\n",
    "merged_two = new_df_country.merge(new_df_listed_in, on=\"title\")\n",
    "merged_df = merged_one.merge(merged_two, on='title')\n",
    "df = df.merge(merged_df, on='title')"
   ]
  },
  {
   "cell_type": "markdown",
   "id": "fc8636e2",
   "metadata": {},
   "source": [
    "### Dropping old unnecessary columns"
   ]
  },
  {
   "cell_type": "code",
   "execution_count": 13,
   "id": "a3dafd23",
   "metadata": {
    "scrolled": true
   },
   "outputs": [],
   "source": [
    "# dropping old unnecessary columns\n",
    "drop_list = ['Unnamed: 0','show_id','director','listed_in']\n",
    "df.drop(drop_list, axis=1, inplace = True)\n",
    "df.drop('cast',axis=1,inplace=True)\n",
    "df.drop('country',axis=1,inplace=True)"
   ]
  },
  {
   "cell_type": "markdown",
   "id": "15631ffd",
   "metadata": {},
   "source": [
    "### Making movie duration and tv show duration colums with int type"
   ]
  },
  {
   "cell_type": "code",
   "execution_count": 14,
   "id": "f2c75456",
   "metadata": {},
   "outputs": [],
   "source": [
    "# making movie duration and tv show duration colums with int type\n",
    "\n",
    "df['movie_duration'] = df[df['type'] == \"Movie\"]['duration'].str.replace(' min',\"\")\n",
    "movie_duration_in_list = df['movie_duration'].to_list()\n",
    "movie_duration_in_list = np.array(movie_duration_in_list, dtype='float')\n",
    "movie_duration_in_list\n",
    "\n",
    "df['movie_duration'] = movie_duration_in_list\n",
    "\n",
    "\n",
    "df['TV_Show_duration'] = df[df['type'] == \"TV Show\"]['duration'].str.replace(' Seasons',\"\")\n",
    "df['TV_Show_duration'] = df['TV_Show_duration'].str.replace(' Season',\"\")\n",
    "df['TV_Show_duration'].astype(\"float\")\n",
    "df.drop('duration', axis=1, inplace=True)"
   ]
  },
  {
   "cell_type": "markdown",
   "id": "9a131e6a",
   "metadata": {},
   "source": [
    "### New column content for"
   ]
  },
  {
   "cell_type": "code",
   "execution_count": 15,
   "id": "dc12f5e6",
   "metadata": {},
   "outputs": [],
   "source": [
    "# new column content for\n",
    "df[\"content_for\"] = df[\"rating\"].replace({\"TV-MA\":\"Adults\",\n",
    "                     \"TV-14\" : \"Teens\",\n",
    "                     \"TV-PG\" : \"Older Kids\",\n",
    "                      \"R\":\"Adults\",\n",
    "                      \"PG-13\":\"Teens\",\n",
    "                      \"TV-Y7\":\"Older Kids\",\n",
    "                      \"TV-Y\":\"Kids\",\n",
    "                      \"PG\":\"Older Kids\",\n",
    "                      \"TV-G\":\"Kids\",\n",
    "                      \"NR\":\"Adults\",\n",
    "                      \"G\":\"Kids\",\n",
    "                      \"TV-Y7-FV\":\"Older Kids\",\n",
    "                      \"NC-17\":\"Adults\",\n",
    "                      \"UR\":\"Adults\"\n",
    "                     })"
   ]
  },
  {
   "cell_type": "code",
   "execution_count": null,
   "id": "c6a8fb15",
   "metadata": {},
   "outputs": [],
   "source": []
  },
  {
   "cell_type": "markdown",
   "id": "6247b9c0",
   "metadata": {},
   "source": [
    "# Analysing the data"
   ]
  },
  {
   "cell_type": "markdown",
   "id": "d7756a2d",
   "metadata": {},
   "source": [
    "### Movie and TV shows distribution in the data"
   ]
  },
  {
   "cell_type": "code",
   "execution_count": 16,
   "id": "e8e70e9b",
   "metadata": {},
   "outputs": [
    {
     "name": "stdout",
     "output_type": "stream",
     "text": [
      "Movie      72.202722\n",
      "TV Show    27.797278\n",
      "Name: type, dtype: float64\n"
     ]
    }
   ],
   "source": [
    "# movie and tv shows distribution in the data\n",
    "type_distribution = df[\"type\"].value_counts(normalize=True)*100\n",
    "print(type_distribution)\n"
   ]
  },
  {
   "cell_type": "code",
   "execution_count": 17,
   "id": "873c53aa",
   "metadata": {
    "scrolled": true
   },
   "outputs": [
    {
     "data": {
      "image/png": "[encoded data removed]",
      "text/plain": [
       "<Figure size 432x288 with 1 Axes>"
      ]
     },
     "metadata": {
      "needs_background": "light"
     },
     "output_type": "display_data"
    }
   ],
   "source": [
    "# movie and tv shows distribution in the data plot\n",
    "\n",
    "sns.set(font_scale = 1.1)\n",
    "types = sns.countplot(data = df , x = \"type\")\n",
    " \n",
    "show_values_on_bars(types,h_v=\"v\",space=1)"
   ]
  },
  {
   "cell_type": "markdown",
   "id": "3247613d",
   "metadata": {},
   "source": [
    "### Distribution on the bases of rating, and the countplot graph"
   ]
  },
  {
   "cell_type": "code",
   "execution_count": 18,
   "id": "a7e38cff",
   "metadata": {},
   "outputs": [
    {
     "name": "stdout",
     "output_type": "stream",
     "text": [
      "TV-MA       73867\n",
      "TV-14       43931\n",
      "R           25860\n",
      "PG-13       16246\n",
      "TV-PG       14926\n",
      "PG          10919\n",
      "TV-Y7        6304\n",
      "TV-Y         3665\n",
      "TV-G         2779\n",
      "NR           1573\n",
      "G            1530\n",
      "NC-17         149\n",
      "TV-Y7-FV       86\n",
      "UR             86\n",
      "74 min          1\n",
      "84 min          1\n",
      "66 min          1\n",
      "Name: rating, dtype: int64\n",
      "________________________________________________________________________________________________________________\n",
      "TV-MA       36.581585\n",
      "TV-14       21.756205\n",
      "R           12.806799\n",
      "PG-13        8.045601\n",
      "TV-PG        7.391890\n",
      "PG           5.407480\n",
      "TV-Y7        3.121967\n",
      "TV-Y         1.815039\n",
      "TV-G         1.376260\n",
      "NR           0.779006\n",
      "G            0.757711\n",
      "NC-17        0.073790\n",
      "TV-Y7-FV     0.042590\n",
      "UR           0.042590\n",
      "Name: rating, dtype: float64\n",
      "________________________________________________________________________________________________________________\n"
     ]
    }
   ],
   "source": [
    "# content distribtion on rating bases\n",
    "rating_base_distribution = df['rating'].value_counts()\n",
    "print(rating_base_distribution)\n",
    "print('________________________________________________________________________________________________________________')\n",
    "rating_base_distribution_percentage = (df['rating'].value_counts(normalize=True)*100).head(14)\n",
    "print(rating_base_distribution_percentage)\n",
    "print('________________________________________________________________________________________________________________')"
   ]
  },
  {
   "cell_type": "code",
   "execution_count": 19,
   "id": "b34d030f",
   "metadata": {},
   "outputs": [],
   "source": [
    "#Observation:\n",
    "#TV-MA and TV-14 covers more the 50% of the content rating"
   ]
  },
  {
   "cell_type": "code",
   "execution_count": 20,
   "id": "d645ec84",
   "metadata": {},
   "outputs": [
    {
     "data": {
      "image/png": "[encoded data removed]",
      "text/plain": [
       "<Figure size 576x360 with 1 Axes>"
      ]
     },
     "metadata": {
      "needs_background": "light"
     },
     "output_type": "display_data"
    }
   ],
   "source": [
    "plt.figure(figsize=(8,5))\n",
    "show_values_on_bars(sns.barplot( x = df[\"rating\"].value_counts().head(11), y = df[\"rating\"].value_counts().head(11).index),h_v=\"h\")\n",
    "plt.xlabel(\"Number of Movie per Rating Category\")\n",
    "plt.ylabel(\"Rating Categories\")\n",
    "plt.show()\n"
   ]
  },
  {
   "cell_type": "markdown",
   "id": "b062f540",
   "metadata": {},
   "source": [
    "### Distribution on the bases of age groups, and the countplot graph\n"
   ]
  },
  {
   "cell_type": "code",
   "execution_count": 21,
   "id": "d114349a",
   "metadata": {
    "scrolled": true
   },
   "outputs": [
    {
     "data": {
      "image/png": "[encoded data removed]",
      "text/plain": [
       "<Figure size 576x360 with 1 Axes>"
      ]
     },
     "metadata": {
      "needs_background": "light"
     },
     "output_type": "display_data"
    }
   ],
   "source": [
    "age_base_distribution = df[\"content_for\"].value_counts()\n",
    "age_base_distribution\n",
    "age_base_distribution_in_percent = df[\"content_for\"].value_counts(normalize=True)*100\n",
    "age_base_distribution_in_percent\n",
    "\n",
    "\n",
    "plt.figure(figsize=(8,5))\n",
    "show_values_on_bars(sns.countplot(x = df[\"content_for\"]))\n"
   ]
  },
  {
   "cell_type": "code",
   "execution_count": 22,
   "id": "5e7291fe",
   "metadata": {},
   "outputs": [],
   "source": [
    "# observation:\n",
    "# movies and tv shows on Netflix are mostly for adults and teen."
   ]
  },
  {
   "cell_type": "markdown",
   "id": "53e71ab0",
   "metadata": {},
   "source": [
    "### Movies and Tv shows per year"
   ]
  },
  {
   "cell_type": "code",
   "execution_count": 23,
   "id": "7cdd3d8f",
   "metadata": {},
   "outputs": [
    {
     "data": {
      "text/html": [
       "<div>\n",
       "<style scoped>\n",
       "    .dataframe tbody tr th:only-of-type {\n",
       "        vertical-align: middle;\n",
       "    }\n",
       "\n",
       "    .dataframe tbody tr th {\n",
       "        vertical-align: top;\n",
       "    }\n",
       "\n",
       "    .dataframe thead th {\n",
       "        text-align: right;\n",
       "    }\n",
       "</style>\n",
       "<table border=\"1\" class=\"dataframe\">\n",
       "  <thead>\n",
       "    <tr style=\"text-align: right;\">\n",
       "      <th></th>\n",
       "      <th>release_year</th>\n",
       "      <th>title</th>\n",
       "    </tr>\n",
       "  </thead>\n",
       "  <tbody>\n",
       "    <tr>\n",
       "      <th>0</th>\n",
       "      <td>1925</td>\n",
       "      <td>1</td>\n",
       "    </tr>\n",
       "    <tr>\n",
       "      <th>1</th>\n",
       "      <td>1943</td>\n",
       "      <td>5</td>\n",
       "    </tr>\n",
       "    <tr>\n",
       "      <th>2</th>\n",
       "      <td>1942</td>\n",
       "      <td>6</td>\n",
       "    </tr>\n",
       "    <tr>\n",
       "      <th>3</th>\n",
       "      <td>1946</td>\n",
       "      <td>6</td>\n",
       "    </tr>\n",
       "    <tr>\n",
       "      <th>4</th>\n",
       "      <td>1947</td>\n",
       "      <td>8</td>\n",
       "    </tr>\n",
       "  </tbody>\n",
       "</table>\n",
       "</div>"
      ],
      "text/plain": [
       "   release_year  title\n",
       "0          1925      1\n",
       "1          1943      5\n",
       "2          1942      6\n",
       "3          1946      6\n",
       "4          1947      8"
      ]
     },
     "execution_count": 23,
     "metadata": {},
     "output_type": "execute_result"
    }
   ],
   "source": [
    "# movies_ans_tvshows_per_year\n",
    "\n",
    "movies_ans_tvshows_per_year = df.groupby('release_year')['title'].count().sort_values(ascending=True).reset_index()\n",
    "movies_ans_tvshows_per_year.head()"
   ]
  },
  {
   "cell_type": "code",
   "execution_count": 24,
   "id": "7a0c2047",
   "metadata": {
    "scrolled": true
   },
   "outputs": [
    {
     "data": {
      "image/png": "[encoded data removed]",
      "text/plain": [
       "<Figure size 360x360 with 1 Axes>"
      ]
     },
     "metadata": {},
     "output_type": "display_data"
    }
   ],
   "source": [
    "# movies_ans_tvshows_per_year plot\n",
    "\n",
    "sns.set_style('whitegrid')\n",
    "sns.lmplot(x='release_year', y='title', data=movies_ans_tvshows_per_year,fit_reg=False, )\n",
    "plt.show()"
   ]
  },
  {
   "cell_type": "markdown",
   "id": "23977603",
   "metadata": {},
   "source": [
    "### Number of movies and tv shows per year for last 30 year "
   ]
  },
  {
   "cell_type": "code",
   "execution_count": 25,
   "id": "3cb899b9",
   "metadata": {},
   "outputs": [
    {
     "data": {
      "text/html": [
       "<div>\n",
       "<style scoped>\n",
       "    .dataframe tbody tr th:only-of-type {\n",
       "        vertical-align: middle;\n",
       "    }\n",
       "\n",
       "    .dataframe tbody tr th {\n",
       "        vertical-align: top;\n",
       "    }\n",
       "\n",
       "    .dataframe thead th {\n",
       "        text-align: right;\n",
       "    }\n",
       "</style>\n",
       "<table border=\"1\" class=\"dataframe\">\n",
       "  <thead>\n",
       "    <tr style=\"text-align: right;\">\n",
       "      <th></th>\n",
       "      <th>release_year</th>\n",
       "      <th>title</th>\n",
       "    </tr>\n",
       "  </thead>\n",
       "  <tbody>\n",
       "    <tr>\n",
       "      <th>44</th>\n",
       "      <td>1996</td>\n",
       "      <td>532</td>\n",
       "    </tr>\n",
       "    <tr>\n",
       "      <th>45</th>\n",
       "      <td>1991</td>\n",
       "      <td>533</td>\n",
       "    </tr>\n",
       "    <tr>\n",
       "      <th>46</th>\n",
       "      <td>1992</td>\n",
       "      <td>542</td>\n",
       "    </tr>\n",
       "    <tr>\n",
       "      <th>47</th>\n",
       "      <td>1995</td>\n",
       "      <td>582</td>\n",
       "    </tr>\n",
       "    <tr>\n",
       "      <th>48</th>\n",
       "      <td>1993</td>\n",
       "      <td>893</td>\n",
       "    </tr>\n",
       "  </tbody>\n",
       "</table>\n",
       "</div>"
      ],
      "text/plain": [
       "    release_year  title\n",
       "44          1996    532\n",
       "45          1991    533\n",
       "46          1992    542\n",
       "47          1995    582\n",
       "48          1993    893"
      ]
     },
     "execution_count": 25,
     "metadata": {},
     "output_type": "execute_result"
    }
   ],
   "source": [
    "# number of movies and tv shows per year for last 30 year \n",
    "\n",
    "in_last_30_year_movies_per_year = movies_ans_tvshows_per_year.tail(30)\n",
    "in_last_30_year_movies_per_year.head()"
   ]
  },
  {
   "cell_type": "code",
   "execution_count": 26,
   "id": "d282c738",
   "metadata": {
    "scrolled": true
   },
   "outputs": [
    {
     "data": {
      "image/png": "[encoded data removed]",
      "text/plain": [
       "<Figure size 576x360 with 1 Axes>"
      ]
     },
     "metadata": {},
     "output_type": "display_data"
    }
   ],
   "source": [
    "# number of movies and tv shows per year for last 30 year plot\n",
    "plt.figure(figsize=(8,5))\n",
    "plt.bar(in_last_30_year_movies_per_year['release_year'],in_last_30_year_movies_per_year['title'])\n",
    "plt.xlabel('years')\n",
    "plt.ylabel('number of content per year')\n",
    "plt.xticks(np.arange(1990,2023,2), rotation=90)\n",
    "plt.show()"
   ]
  },
  {
   "cell_type": "markdown",
   "id": "12fa33a9",
   "metadata": {},
   "source": [
    "### Analyzing TV shows and Movies data seperately "
   ]
  },
  {
   "cell_type": "code",
   "execution_count": 27,
   "id": "fa178f7d",
   "metadata": {},
   "outputs": [
    {
     "data": {
      "image/png": "[encoded data removed]",
      "text/plain": [
       "<Figure size 864x576 with 1 Axes>"
      ]
     },
     "metadata": {},
     "output_type": "display_data"
    }
   ],
   "source": [
    "TV_shows = df.loc[df[\"type\"]==\"TV Show\"]\n",
    "Movies = df.loc[df[\"type\"]==\"Movie\"]\n",
    "\n",
    "plt.figure(figsize=(12,8))\n",
    "plt.bar(Movies.groupby(\"year_added\")[\"title\"].nunique().index,Movies.groupby(\"year_added\")[\"title\"].nunique() )\n",
    "plt.bar((TV_shows.groupby(\"year_added\")[\"title\"].nunique().index)+0.15,TV_shows.groupby(\"year_added\")[\"title\"].nunique(),\n",
    " width=0.5 )\n",
    "plt.xticks(np.arange(2010,2022),rotation = 0)\n",
    "plt.title(\"Count of Content per year\")\n",
    "plt.xlabel(\"years\")\n",
    "plt.ylabel(\"Count of Contet\")\n",
    "plt.legend([\"Movies\",\"TV_Shows\"])\n",
    "plt.show()"
   ]
  },
  {
   "cell_type": "markdown",
   "id": "6d6b1cff",
   "metadata": {},
   "source": [
    "### Best director, number of movies"
   ]
  },
  {
   "cell_type": "code",
   "execution_count": 28,
   "id": "fa0fe239",
   "metadata": {},
   "outputs": [
    {
     "data": {
      "text/html": [
       "<div>\n",
       "<style scoped>\n",
       "    .dataframe tbody tr th:only-of-type {\n",
       "        vertical-align: middle;\n",
       "    }\n",
       "\n",
       "    .dataframe tbody tr th {\n",
       "        vertical-align: top;\n",
       "    }\n",
       "\n",
       "    .dataframe thead th {\n",
       "        text-align: right;\n",
       "    }\n",
       "</style>\n",
       "<table border=\"1\" class=\"dataframe\">\n",
       "  <thead>\n",
       "    <tr style=\"text-align: right;\">\n",
       "      <th></th>\n",
       "      <th>directors</th>\n",
       "      <th>title</th>\n",
       "    </tr>\n",
       "  </thead>\n",
       "  <tbody>\n",
       "    <tr>\n",
       "      <th>1</th>\n",
       "      <td>Martin Scorsese</td>\n",
       "      <td>419</td>\n",
       "    </tr>\n",
       "  </tbody>\n",
       "</table>\n",
       "</div>"
      ],
      "text/plain": [
       "         directors  title\n",
       "1  Martin Scorsese    419"
      ]
     },
     "execution_count": 28,
     "metadata": {},
     "output_type": "execute_result"
    }
   ],
   "source": [
    "# best director, number of movies\n",
    "top_10_directors_global = df.groupby('directors')['title'].count().sort_values(ascending=False).head(11).reset_index()\n",
    "top_10_directors_global = top_10_directors_global.drop(0,axis=0)\n",
    "top_10_directors_global\n",
    "\n",
    "top_director_global = top_10_directors_global.head(1) \n",
    "top_director_global\n",
    "\n"
   ]
  },
  {
   "cell_type": "markdown",
   "id": "3a9fb099",
   "metadata": {},
   "source": [
    "### Best actor, based on number of movies"
   ]
  },
  {
   "cell_type": "code",
   "execution_count": 29,
   "id": "2669a3e6",
   "metadata": {},
   "outputs": [
    {
     "data": {
      "text/html": [
       "<div>\n",
       "<style scoped>\n",
       "    .dataframe tbody tr th:only-of-type {\n",
       "        vertical-align: middle;\n",
       "    }\n",
       "\n",
       "    .dataframe tbody tr th {\n",
       "        vertical-align: top;\n",
       "    }\n",
       "\n",
       "    .dataframe thead th {\n",
       "        text-align: right;\n",
       "    }\n",
       "</style>\n",
       "<table border=\"1\" class=\"dataframe\">\n",
       "  <thead>\n",
       "    <tr style=\"text-align: right;\">\n",
       "      <th></th>\n",
       "      <th>actors</th>\n",
       "      <th>title</th>\n",
       "    </tr>\n",
       "  </thead>\n",
       "  <tbody>\n",
       "    <tr>\n",
       "      <th>1</th>\n",
       "      <td>Liam Neeson</td>\n",
       "      <td>161</td>\n",
       "    </tr>\n",
       "  </tbody>\n",
       "</table>\n",
       "</div>"
      ],
      "text/plain": [
       "        actors  title\n",
       "1  Liam Neeson    161"
      ]
     },
     "execution_count": 29,
     "metadata": {},
     "output_type": "execute_result"
    }
   ],
   "source": [
    "# best actor, number of movies\n",
    "top_10_actors_global = df.groupby('actors')['title'].count().sort_values(ascending=False).head(11).reset_index()\n",
    "top_10_actors_global = top_10_actors_global.drop(0,axis=0)\n",
    "top_10_actors_global\n",
    "top_actors_global = top_10_actors_global.head(1)\n",
    "top_actors_global"
   ]
  },
  {
   "cell_type": "markdown",
   "id": "5972e807",
   "metadata": {},
   "source": [
    "### Number of Content per country, and its plot"
   ]
  },
  {
   "cell_type": "code",
   "execution_count": 30,
   "id": "ff396f9c",
   "metadata": {},
   "outputs": [
    {
     "data": {
      "text/html": [
       "<div>\n",
       "<style scoped>\n",
       "    .dataframe tbody tr th:only-of-type {\n",
       "        vertical-align: middle;\n",
       "    }\n",
       "\n",
       "    .dataframe tbody tr th {\n",
       "        vertical-align: top;\n",
       "    }\n",
       "\n",
       "    .dataframe thead th {\n",
       "        text-align: right;\n",
       "    }\n",
       "</style>\n",
       "<table border=\"1\" class=\"dataframe\">\n",
       "  <thead>\n",
       "    <tr style=\"text-align: right;\">\n",
       "      <th></th>\n",
       "      <th>countries</th>\n",
       "      <th>title</th>\n",
       "    </tr>\n",
       "  </thead>\n",
       "  <tbody>\n",
       "    <tr>\n",
       "      <th>0</th>\n",
       "      <td>United States</td>\n",
       "      <td>3689</td>\n",
       "    </tr>\n",
       "    <tr>\n",
       "      <th>1</th>\n",
       "      <td>India</td>\n",
       "      <td>1046</td>\n",
       "    </tr>\n",
       "    <tr>\n",
       "      <th>2</th>\n",
       "      <td>Unknown</td>\n",
       "      <td>831</td>\n",
       "    </tr>\n",
       "    <tr>\n",
       "      <th>3</th>\n",
       "      <td>United Kingdom</td>\n",
       "      <td>804</td>\n",
       "    </tr>\n",
       "    <tr>\n",
       "      <th>4</th>\n",
       "      <td>Canada</td>\n",
       "      <td>445</td>\n",
       "    </tr>\n",
       "  </tbody>\n",
       "</table>\n",
       "</div>"
      ],
      "text/plain": [
       "        countries  title\n",
       "0   United States   3689\n",
       "1           India   1046\n",
       "2         Unknown    831\n",
       "3  United Kingdom    804\n",
       "4          Canada    445"
      ]
     },
     "execution_count": 30,
     "metadata": {},
     "output_type": "execute_result"
    }
   ],
   "source": [
    "# number of movies per country\n",
    "\n",
    "no_of_content_per_country = df.groupby(\"countries\")[\"title\"].nunique().sort_values(ascending=False).head(20).reset_index()\n",
    "no_of_content_per_country.head()\n"
   ]
  },
  {
   "cell_type": "code",
   "execution_count": 31,
   "id": "b55502b1",
   "metadata": {},
   "outputs": [
    {
     "data": {
      "image/png": "[encoded data removed]",
      "text/plain": [
       "<Figure size 576x360 with 1 Axes>"
      ]
     },
     "metadata": {},
     "output_type": "display_data"
    }
   ],
   "source": [
    "# # number of movies per country plot\n",
    "\n",
    "plt.figure(figsize=(8,5))\n",
    "plt.bar(no_of_content_per_country['countries'],no_of_content_per_country['title'])\n",
    "plt.xlabel('country')\n",
    "plt.ylabel('number of content per year')\n",
    "plt.xticks(rotation=90)\n",
    "plt.show()"
   ]
  },
  {
   "cell_type": "markdown",
   "id": "f1136cd0",
   "metadata": {},
   "source": [
    "### Top 20 countries with highest content"
   ]
  },
  {
   "cell_type": "code",
   "execution_count": 32,
   "id": "6670476a",
   "metadata": {
    "scrolled": true
   },
   "outputs": [
    {
     "data": {
      "text/html": [
       "<div>\n",
       "<style scoped>\n",
       "    .dataframe tbody tr th:only-of-type {\n",
       "        vertical-align: middle;\n",
       "    }\n",
       "\n",
       "    .dataframe tbody tr th {\n",
       "        vertical-align: top;\n",
       "    }\n",
       "\n",
       "    .dataframe thead th {\n",
       "        text-align: right;\n",
       "    }\n",
       "</style>\n",
       "<table border=\"1\" class=\"dataframe\">\n",
       "  <thead>\n",
       "    <tr style=\"text-align: right;\">\n",
       "      <th></th>\n",
       "      <th>countries</th>\n",
       "      <th>title</th>\n",
       "    </tr>\n",
       "  </thead>\n",
       "  <tbody>\n",
       "    <tr>\n",
       "      <th>0</th>\n",
       "      <td>United States</td>\n",
       "      <td>3689</td>\n",
       "    </tr>\n",
       "    <tr>\n",
       "      <th>1</th>\n",
       "      <td>India</td>\n",
       "      <td>1046</td>\n",
       "    </tr>\n",
       "    <tr>\n",
       "      <th>2</th>\n",
       "      <td>Unknown</td>\n",
       "      <td>831</td>\n",
       "    </tr>\n",
       "    <tr>\n",
       "      <th>3</th>\n",
       "      <td>United Kingdom</td>\n",
       "      <td>804</td>\n",
       "    </tr>\n",
       "    <tr>\n",
       "      <th>4</th>\n",
       "      <td>Canada</td>\n",
       "      <td>445</td>\n",
       "    </tr>\n",
       "  </tbody>\n",
       "</table>\n",
       "</div>"
      ],
      "text/plain": [
       "        countries  title\n",
       "0   United States   3689\n",
       "1           India   1046\n",
       "2         Unknown    831\n",
       "3  United Kingdom    804\n",
       "4          Canada    445"
      ]
     },
     "execution_count": 32,
     "metadata": {},
     "output_type": "execute_result"
    }
   ],
   "source": [
    "# top 20 countries\n",
    "top_20_countries = no_of_content_per_country.head(20)\n",
    "top_20_countries.head()"
   ]
  },
  {
   "cell_type": "markdown",
   "id": "02e563ca",
   "metadata": {},
   "source": [
    "### Movies Counts - TV Shows Count as per Top Countires:"
   ]
  },
  {
   "cell_type": "code",
   "execution_count": 33,
   "id": "a474ef47",
   "metadata": {},
   "outputs": [],
   "source": [
    "tvcount = TV_shows.groupby(\"countries\")[\"title\"].nunique().sort_values(ascending=False).reset_index()\n",
    "\n",
    "mcount = Movies.groupby(\"countries\")[\"title\"].nunique().sort_values(ascending=False).reset_index()\n",
    "\n",
    "tvVSMovies_per_country = tvcount.merge(mcount,on=\"countries\",how = \"outer\")\n",
    "\n",
    "tvVSMovies_per_country.rename({\"title_x\":\"TV Shows Count\", \"title_y\":\"Movies Counts\"},axis = 1,inplace=True)"
   ]
  },
  {
   "cell_type": "code",
   "execution_count": 34,
   "id": "cc1800ad",
   "metadata": {},
   "outputs": [
    {
     "data": {
      "image/png": "[encoded data removed]",
      "text/plain": [
       "<Figure size 1080x720 with 1 Axes>"
      ]
     },
     "metadata": {},
     "output_type": "display_data"
    }
   ],
   "source": [
    "plt.figure(figsize=(15,10))\n",
    "plt.bar(tvVSMovies_per_country[\"countries\"].head(30),tvVSMovies_per_country[\"Movies Counts\"].head(30))\n",
    "plt.bar(tvVSMovies_per_country[\"countries\"].head(30),tvVSMovies_per_country[\"TV Shows Count\"].head(30))\n",
    "plt.xticks(rotation = 90)\n",
    "plt.legend([\"Movies Counts\",\"TV Shows Count\"])\n",
    "plt.show()"
   ]
  },
  {
   "cell_type": "markdown",
   "id": "37c7bac6",
   "metadata": {},
   "source": [
    "### Most popular genre"
   ]
  },
  {
   "cell_type": "code",
   "execution_count": 35,
   "id": "576ecf40",
   "metadata": {},
   "outputs": [
    {
     "data": {
      "text/html": [
       "<div>\n",
       "<style scoped>\n",
       "    .dataframe tbody tr th:only-of-type {\n",
       "        vertical-align: middle;\n",
       "    }\n",
       "\n",
       "    .dataframe tbody tr th {\n",
       "        vertical-align: top;\n",
       "    }\n",
       "\n",
       "    .dataframe thead th {\n",
       "        text-align: right;\n",
       "    }\n",
       "</style>\n",
       "<table border=\"1\" class=\"dataframe\">\n",
       "  <thead>\n",
       "    <tr style=\"text-align: right;\">\n",
       "      <th></th>\n",
       "      <th>genre</th>\n",
       "      <th>title</th>\n",
       "    </tr>\n",
       "  </thead>\n",
       "  <tbody>\n",
       "    <tr>\n",
       "      <th>0</th>\n",
       "      <td>International Movies</td>\n",
       "      <td>2752</td>\n",
       "    </tr>\n",
       "    <tr>\n",
       "      <th>1</th>\n",
       "      <td>Dramas</td>\n",
       "      <td>2427</td>\n",
       "    </tr>\n",
       "    <tr>\n",
       "      <th>2</th>\n",
       "      <td>Comedies</td>\n",
       "      <td>1674</td>\n",
       "    </tr>\n",
       "    <tr>\n",
       "      <th>3</th>\n",
       "      <td>International TV Shows</td>\n",
       "      <td>1351</td>\n",
       "    </tr>\n",
       "    <tr>\n",
       "      <th>4</th>\n",
       "      <td>Documentaries</td>\n",
       "      <td>869</td>\n",
       "    </tr>\n",
       "    <tr>\n",
       "      <th>5</th>\n",
       "      <td>Action &amp; Adventure</td>\n",
       "      <td>859</td>\n",
       "    </tr>\n",
       "    <tr>\n",
       "      <th>6</th>\n",
       "      <td>TV Dramas</td>\n",
       "      <td>763</td>\n",
       "    </tr>\n",
       "    <tr>\n",
       "      <th>7</th>\n",
       "      <td>Independent Movies</td>\n",
       "      <td>756</td>\n",
       "    </tr>\n",
       "    <tr>\n",
       "      <th>8</th>\n",
       "      <td>Children &amp; Family Movies</td>\n",
       "      <td>641</td>\n",
       "    </tr>\n",
       "    <tr>\n",
       "      <th>9</th>\n",
       "      <td>Romantic Movies</td>\n",
       "      <td>616</td>\n",
       "    </tr>\n",
       "  </tbody>\n",
       "</table>\n",
       "</div>"
      ],
      "text/plain": [
       "                      genre  title\n",
       "0      International Movies   2752\n",
       "1                    Dramas   2427\n",
       "2                  Comedies   1674\n",
       "3    International TV Shows   1351\n",
       "4             Documentaries    869\n",
       "5        Action & Adventure    859\n",
       "6                 TV Dramas    763\n",
       "7        Independent Movies    756\n",
       "8  Children & Family Movies    641\n",
       "9           Romantic Movies    616"
      ]
     },
     "execution_count": 35,
     "metadata": {},
     "output_type": "execute_result"
    }
   ],
   "source": [
    "# most popular genre top 10\n",
    "top_genre = df.groupby('genre')['title'].nunique().sort_values(ascending = False).head(10).reset_index()\n",
    "top_genre\n"
   ]
  },
  {
   "cell_type": "code",
   "execution_count": 36,
   "id": "5ac6b878",
   "metadata": {},
   "outputs": [
    {
     "data": {
      "image/png": "[encoded data removed]",
      "text/plain": [
       "<Figure size 720x432 with 1 Axes>"
      ]
     },
     "metadata": {},
     "output_type": "display_data"
    }
   ],
   "source": [
    "# most popular genre top 10 polt\n",
    "\n",
    "plt.figure(figsize=(10,6))\n",
    "sns.barplot(x = \"genre\" , y=\"title\" , data = top_genre )\n",
    "plt.title(\"Content as per genre\")\n",
    "plt.xlabel(\"genres\")\n",
    "plt.ylabel(\"% of content per genre\")\n",
    "plt.xticks(rotation = 90)\n",
    "plt.show()\n"
   ]
  },
  {
   "cell_type": "markdown",
   "id": "f752bc7c",
   "metadata": {},
   "source": [
    "### Top 20 actors who have worked in more then one country"
   ]
  },
  {
   "cell_type": "code",
   "execution_count": 37,
   "id": "2abddbfa",
   "metadata": {},
   "outputs": [
    {
     "data": {
      "text/html": [
       "<div>\n",
       "<style scoped>\n",
       "    .dataframe tbody tr th:only-of-type {\n",
       "        vertical-align: middle;\n",
       "    }\n",
       "\n",
       "    .dataframe tbody tr th {\n",
       "        vertical-align: top;\n",
       "    }\n",
       "\n",
       "    .dataframe thead th {\n",
       "        text-align: right;\n",
       "    }\n",
       "</style>\n",
       "<table border=\"1\" class=\"dataframe\">\n",
       "  <thead>\n",
       "    <tr style=\"text-align: right;\">\n",
       "      <th></th>\n",
       "      <th>actors</th>\n",
       "      <th>countries</th>\n",
       "    </tr>\n",
       "  </thead>\n",
       "  <tbody>\n",
       "    <tr>\n",
       "      <th>1</th>\n",
       "      <td>Alfred Molina</td>\n",
       "      <td>14</td>\n",
       "    </tr>\n",
       "    <tr>\n",
       "      <th>2</th>\n",
       "      <td>Paul Giamatti</td>\n",
       "      <td>14</td>\n",
       "    </tr>\n",
       "    <tr>\n",
       "      <th>3</th>\n",
       "      <td>Mads Mikkelsen</td>\n",
       "      <td>13</td>\n",
       "    </tr>\n",
       "    <tr>\n",
       "      <th>4</th>\n",
       "      <td>Ben Whishaw</td>\n",
       "      <td>13</td>\n",
       "    </tr>\n",
       "    <tr>\n",
       "      <th>5</th>\n",
       "      <td>James Franco</td>\n",
       "      <td>13</td>\n",
       "    </tr>\n",
       "    <tr>\n",
       "      <th>6</th>\n",
       "      <td>Eddie Marsan</td>\n",
       "      <td>13</td>\n",
       "    </tr>\n",
       "    <tr>\n",
       "      <th>7</th>\n",
       "      <td>Vincent Tong</td>\n",
       "      <td>13</td>\n",
       "    </tr>\n",
       "    <tr>\n",
       "      <th>8</th>\n",
       "      <td>Sylvester Stallone</td>\n",
       "      <td>13</td>\n",
       "    </tr>\n",
       "    <tr>\n",
       "      <th>9</th>\n",
       "      <td>John Cleese</td>\n",
       "      <td>13</td>\n",
       "    </tr>\n",
       "    <tr>\n",
       "      <th>10</th>\n",
       "      <td>Nicole Kidman</td>\n",
       "      <td>13</td>\n",
       "    </tr>\n",
       "    <tr>\n",
       "      <th>11</th>\n",
       "      <td>Stellan Skarsgård</td>\n",
       "      <td>12</td>\n",
       "    </tr>\n",
       "    <tr>\n",
       "      <th>12</th>\n",
       "      <td>Jeremy Irvine</td>\n",
       "      <td>12</td>\n",
       "    </tr>\n",
       "    <tr>\n",
       "      <th>13</th>\n",
       "      <td>Alicia Vikander</td>\n",
       "      <td>12</td>\n",
       "    </tr>\n",
       "    <tr>\n",
       "      <th>14</th>\n",
       "      <td>Brian Drummond</td>\n",
       "      <td>12</td>\n",
       "    </tr>\n",
       "    <tr>\n",
       "      <th>15</th>\n",
       "      <td>Christopher Lee</td>\n",
       "      <td>12</td>\n",
       "    </tr>\n",
       "    <tr>\n",
       "      <th>16</th>\n",
       "      <td>Natalie Dormer</td>\n",
       "      <td>11</td>\n",
       "    </tr>\n",
       "    <tr>\n",
       "      <th>17</th>\n",
       "      <td>Bruno Ganz</td>\n",
       "      <td>11</td>\n",
       "    </tr>\n",
       "    <tr>\n",
       "      <th>18</th>\n",
       "      <td>Guy Pearce</td>\n",
       "      <td>11</td>\n",
       "    </tr>\n",
       "    <tr>\n",
       "      <th>19</th>\n",
       "      <td>Léa Seydoux</td>\n",
       "      <td>11</td>\n",
       "    </tr>\n",
       "    <tr>\n",
       "      <th>20</th>\n",
       "      <td>Jim Broadbent</td>\n",
       "      <td>11</td>\n",
       "    </tr>\n",
       "  </tbody>\n",
       "</table>\n",
       "</div>"
      ],
      "text/plain": [
       "                actors  countries\n",
       "1        Alfred Molina         14\n",
       "2        Paul Giamatti         14\n",
       "3       Mads Mikkelsen         13\n",
       "4          Ben Whishaw         13\n",
       "5         James Franco         13\n",
       "6         Eddie Marsan         13\n",
       "7         Vincent Tong         13\n",
       "8   Sylvester Stallone         13\n",
       "9          John Cleese         13\n",
       "10       Nicole Kidman         13\n",
       "11   Stellan Skarsgård         12\n",
       "12       Jeremy Irvine         12\n",
       "13     Alicia Vikander         12\n",
       "14      Brian Drummond         12\n",
       "15     Christopher Lee         12\n",
       "16      Natalie Dormer         11\n",
       "17          Bruno Ganz         11\n",
       "18          Guy Pearce         11\n",
       "19         Léa Seydoux         11\n",
       "20       Jim Broadbent         11"
      ]
     },
     "execution_count": 37,
     "metadata": {},
     "output_type": "execute_result"
    }
   ],
   "source": [
    "# top 20 actors who have worked in more the counties\n",
    "\n",
    "top_20_actors_working_in_muliple_country = df.groupby('actors')['countries'].nunique().sort_values(ascending=False).head(21).reset_index()\n",
    "top_20_actors_working_in_muliple_country = top_20_actors_working_in_muliple_country.drop(0,axis=0)\n",
    "top_20_actors_working_in_muliple_country.head(20)"
   ]
  },
  {
   "cell_type": "markdown",
   "id": "14863240",
   "metadata": {},
   "source": [
    "### Top 20 directors who have worked in more then one country"
   ]
  },
  {
   "cell_type": "code",
   "execution_count": 38,
   "id": "156d0242",
   "metadata": {},
   "outputs": [
    {
     "data": {
      "text/html": [
       "<div>\n",
       "<style scoped>\n",
       "    .dataframe tbody tr th:only-of-type {\n",
       "        vertical-align: middle;\n",
       "    }\n",
       "\n",
       "    .dataframe tbody tr th {\n",
       "        vertical-align: top;\n",
       "    }\n",
       "\n",
       "    .dataframe thead th {\n",
       "        text-align: right;\n",
       "    }\n",
       "</style>\n",
       "<table border=\"1\" class=\"dataframe\">\n",
       "  <thead>\n",
       "    <tr style=\"text-align: right;\">\n",
       "      <th></th>\n",
       "      <th>directors</th>\n",
       "      <th>countries</th>\n",
       "    </tr>\n",
       "  </thead>\n",
       "  <tbody>\n",
       "    <tr>\n",
       "      <th>1</th>\n",
       "      <td>Matthew Salleh</td>\n",
       "      <td>12</td>\n",
       "    </tr>\n",
       "    <tr>\n",
       "      <th>2</th>\n",
       "      <td>Joshua Oppenheimer</td>\n",
       "      <td>10</td>\n",
       "    </tr>\n",
       "    <tr>\n",
       "      <th>3</th>\n",
       "      <td>Farhad Safinia</td>\n",
       "      <td>8</td>\n",
       "    </tr>\n",
       "    <tr>\n",
       "      <th>4</th>\n",
       "      <td>Martin Campbell</td>\n",
       "      <td>8</td>\n",
       "    </tr>\n",
       "    <tr>\n",
       "      <th>5</th>\n",
       "      <td>James Watkins</td>\n",
       "      <td>7</td>\n",
       "    </tr>\n",
       "    <tr>\n",
       "      <th>6</th>\n",
       "      <td>Aaron Woodley</td>\n",
       "      <td>7</td>\n",
       "    </tr>\n",
       "    <tr>\n",
       "      <th>7</th>\n",
       "      <td>Renny Harlin</td>\n",
       "      <td>7</td>\n",
       "    </tr>\n",
       "    <tr>\n",
       "      <th>8</th>\n",
       "      <td>Nora Twomey</td>\n",
       "      <td>7</td>\n",
       "    </tr>\n",
       "    <tr>\n",
       "      <th>9</th>\n",
       "      <td>Brian De Palma</td>\n",
       "      <td>7</td>\n",
       "    </tr>\n",
       "    <tr>\n",
       "      <th>10</th>\n",
       "      <td>Olivier Assayas</td>\n",
       "      <td>7</td>\n",
       "    </tr>\n",
       "    <tr>\n",
       "      <th>11</th>\n",
       "      <td>Ari Folman</td>\n",
       "      <td>7</td>\n",
       "    </tr>\n",
       "    <tr>\n",
       "      <th>12</th>\n",
       "      <td>Tom Hooper</td>\n",
       "      <td>7</td>\n",
       "    </tr>\n",
       "    <tr>\n",
       "      <th>13</th>\n",
       "      <td>Philippe Aractingi</td>\n",
       "      <td>6</td>\n",
       "    </tr>\n",
       "    <tr>\n",
       "      <th>14</th>\n",
       "      <td>Petra Costa</td>\n",
       "      <td>6</td>\n",
       "    </tr>\n",
       "    <tr>\n",
       "      <th>15</th>\n",
       "      <td>Alastair Fothergill</td>\n",
       "      <td>6</td>\n",
       "    </tr>\n",
       "    <tr>\n",
       "      <th>16</th>\n",
       "      <td>Juan Zapata</td>\n",
       "      <td>6</td>\n",
       "    </tr>\n",
       "    <tr>\n",
       "      <th>17</th>\n",
       "      <td>Martin Scorsese</td>\n",
       "      <td>6</td>\n",
       "    </tr>\n",
       "    <tr>\n",
       "      <th>18</th>\n",
       "      <td>Pablo Larraín</td>\n",
       "      <td>6</td>\n",
       "    </tr>\n",
       "    <tr>\n",
       "      <th>19</th>\n",
       "      <td>Liam O'Donnell</td>\n",
       "      <td>6</td>\n",
       "    </tr>\n",
       "    <tr>\n",
       "      <th>20</th>\n",
       "      <td>Paul Greengrass</td>\n",
       "      <td>6</td>\n",
       "    </tr>\n",
       "  </tbody>\n",
       "</table>\n",
       "</div>"
      ],
      "text/plain": [
       "              directors  countries\n",
       "1        Matthew Salleh         12\n",
       "2    Joshua Oppenheimer         10\n",
       "3        Farhad Safinia          8\n",
       "4       Martin Campbell          8\n",
       "5         James Watkins          7\n",
       "6         Aaron Woodley          7\n",
       "7          Renny Harlin          7\n",
       "8           Nora Twomey          7\n",
       "9        Brian De Palma          7\n",
       "10      Olivier Assayas          7\n",
       "11           Ari Folman          7\n",
       "12           Tom Hooper          7\n",
       "13   Philippe Aractingi          6\n",
       "14          Petra Costa          6\n",
       "15  Alastair Fothergill          6\n",
       "16          Juan Zapata          6\n",
       "17      Martin Scorsese          6\n",
       "18        Pablo Larraín          6\n",
       "19       Liam O'Donnell          6\n",
       "20      Paul Greengrass          6"
      ]
     },
     "execution_count": 38,
     "metadata": {},
     "output_type": "execute_result"
    }
   ],
   "source": [
    "# top 20 directors who have worked in more the counties\n",
    "\n",
    "top_20_directors_working_in_muliple_country = df.groupby('directors')['countries'].nunique().sort_values(ascending=False).head(21).reset_index()\n",
    "top_20_directors_working_in_muliple_country = top_20_directors_working_in_muliple_country.drop(0,axis=0)\n",
    "top_20_directors_working_in_muliple_country.head(20)"
   ]
  },
  {
   "cell_type": "markdown",
   "id": "92f94bee",
   "metadata": {},
   "source": [
    "### Top actors in popular genres"
   ]
  },
  {
   "cell_type": "code",
   "execution_count": 39,
   "id": "b0c974d0",
   "metadata": {},
   "outputs": [
    {
     "name": "stdout",
     "output_type": "stream",
     "text": [
      "\n",
      "International Movies\n",
      "Actor               number of movies\n",
      "actors\n",
      "Unknown        178\n",
      "Anupam Kher     38\n",
      "Name: title, dtype: int64\n",
      "\n",
      "Dramas\n",
      "Actor               number of movies\n",
      "actors\n",
      "Anupam Kher       28\n",
      "Shah Rukh Khan    28\n",
      "Name: title, dtype: int64\n",
      "\n",
      "Comedies\n",
      "Actor               number of movies\n",
      "actors\n",
      "Anupam Kher     20\n",
      "Paresh Rawal    18\n",
      "Name: title, dtype: int64\n",
      "\n",
      "International TV Shows\n",
      "Actor               number of movies\n",
      "actors\n",
      "Unknown             109\n",
      "Takahiro Sakurai     22\n",
      "Name: title, dtype: int64\n",
      "\n",
      "Documentaries\n",
      "Actor               number of movies\n",
      "actors\n",
      "Unknown        424\n",
      "Samuel West     10\n",
      "Name: title, dtype: int64\n",
      "\n",
      "Action & Adventure\n",
      "Actor               number of movies\n",
      "actors\n",
      "Bruce Willis        13\n",
      "Amitabh Bachchan    12\n",
      "Name: title, dtype: int64\n",
      "\n",
      "TV Dramas\n",
      "Actor               number of movies\n",
      "actors\n",
      "Tay Ping Hui    10\n",
      "Jeanette Aw      7\n",
      "Name: title, dtype: int64\n",
      "\n",
      "Independent Movies\n",
      "Actor               number of movies\n",
      "actors\n",
      "Naseeruddin Shah    10\n",
      "Rajit Kapoor         8\n",
      "Name: title, dtype: int64\n",
      "\n",
      "Children & Family Movies\n",
      "Actor               number of movies\n",
      "actors\n",
      "Unknown          33\n",
      "Julie Tejwani    26\n",
      "Name: title, dtype: int64\n",
      "\n",
      "Romantic Movies\n",
      "Actor               number of movies\n",
      "actors\n",
      "Akshay Kumar    8\n",
      "Salman Khan     7\n",
      "Name: title, dtype: int64\n"
     ]
    }
   ],
   "source": [
    "# for each genre top actor\n",
    "\n",
    "\n",
    "most_popular_genre = top_genre[0:11]\n",
    "\n",
    "\n",
    "for genre in most_popular_genre['genre']:\n",
    "    print()\n",
    "    print(genre)\n",
    "    print(\"Actor               number of movies\")\n",
    "    name = (df[df['genre']== genre].groupby('actors')['title'].nunique().sort_values(ascending=False).head(2))\n",
    "    print(name)"
   ]
  },
  {
   "cell_type": "markdown",
   "id": "7d497d25",
   "metadata": {},
   "source": [
    "### Top Directors in popular genres"
   ]
  },
  {
   "cell_type": "code",
   "execution_count": 40,
   "id": "22af3934",
   "metadata": {},
   "outputs": [
    {
     "name": "stdout",
     "output_type": "stream",
     "text": [
      "\n",
      "International Movies\n",
      "Director               number of movies\n",
      "directors\n",
      "Unknown                47\n",
      "Cathy Garcia-Molina    13\n",
      "Name: title, dtype: int64\n",
      "\n",
      "Dramas\n",
      "Director               number of movies\n",
      "directors\n",
      "Unknown            25\n",
      "Youssef Chahine    12\n",
      "Name: title, dtype: int64\n",
      "\n",
      "Comedies\n",
      "Director               number of movies\n",
      "directors\n",
      "Unknown         32\n",
      "David Dhawan     9\n",
      "Name: title, dtype: int64\n",
      "\n",
      "International TV Shows\n",
      "Director               number of movies\n",
      "directors\n",
      "Unknown                1223\n",
      "Alastair Fothergill       3\n",
      "Name: title, dtype: int64\n",
      "\n",
      "Documentaries\n",
      "Director               number of movies\n",
      "directors\n",
      "Unknown       57\n",
      "Vlad Yudin     6\n",
      "Name: title, dtype: int64\n",
      "\n",
      "Action & Adventure\n",
      "Director               number of movies\n",
      "directors\n",
      "Don Michael Paul    9\n",
      "Unknown             8\n",
      "Name: title, dtype: int64\n",
      "\n",
      "TV Dramas\n",
      "Director               number of movies\n",
      "directors\n",
      "Unknown             702\n",
      "Abhishek Chaubey      1\n",
      "Name: title, dtype: int64\n",
      "\n",
      "Independent Movies\n",
      "Director               number of movies\n",
      "directors\n",
      "Noah Baumbach           5\n",
      "Paul Thomas Anderson    5\n",
      "Name: title, dtype: int64\n",
      "\n",
      "Children & Family Movies\n",
      "Director               number of movies\n",
      "directors\n",
      "Unknown          36\n",
      "Rajiv Chilaka    22\n",
      "Name: title, dtype: int64\n",
      "\n",
      "Romantic Movies\n",
      "Director               number of movies\n",
      "directors\n",
      "Unknown                11\n",
      "Cathy Garcia-Molina     8\n",
      "Name: title, dtype: int64\n"
     ]
    }
   ],
   "source": [
    "# for each genre top director\n",
    "\n",
    "for genre in most_popular_genre['genre']:\n",
    "    print()\n",
    "    print(genre)\n",
    "    print(\"Director               number of movies\")\n",
    "    name = (df[df['genre']== genre].groupby('directors')['title'].nunique().sort_values(ascending=False).head(2))\n",
    "    print(name)"
   ]
  },
  {
   "cell_type": "markdown",
   "id": "b89a1b24",
   "metadata": {},
   "source": [
    "#### movie duration from shortest to longest"
   ]
  },
  {
   "cell_type": "code",
   "execution_count": 41,
   "id": "df454392",
   "metadata": {
    "scrolled": true
   },
   "outputs": [
    {
     "data": {
      "text/html": [
       "<div>\n",
       "<style scoped>\n",
       "    .dataframe tbody tr th:only-of-type {\n",
       "        vertical-align: middle;\n",
       "    }\n",
       "\n",
       "    .dataframe tbody tr th {\n",
       "        vertical-align: top;\n",
       "    }\n",
       "\n",
       "    .dataframe thead th {\n",
       "        text-align: right;\n",
       "    }\n",
       "</style>\n",
       "<table border=\"1\" class=\"dataframe\">\n",
       "  <thead>\n",
       "    <tr style=\"text-align: right;\">\n",
       "      <th></th>\n",
       "      <th>movie_duration</th>\n",
       "      <th>title</th>\n",
       "    </tr>\n",
       "  </thead>\n",
       "  <tbody>\n",
       "    <tr>\n",
       "      <th>0</th>\n",
       "      <td>3.0</td>\n",
       "      <td>[Silent]</td>\n",
       "    </tr>\n",
       "    <tr>\n",
       "      <th>1</th>\n",
       "      <td>5.0</td>\n",
       "      <td>[Sol Levante]</td>\n",
       "    </tr>\n",
       "    <tr>\n",
       "      <th>2</th>\n",
       "      <td>8.0</td>\n",
       "      <td>[Cops and Robbers]</td>\n",
       "    </tr>\n",
       "    <tr>\n",
       "      <th>3</th>\n",
       "      <td>9.0</td>\n",
       "      <td>[Canvas]</td>\n",
       "    </tr>\n",
       "    <tr>\n",
       "      <th>4</th>\n",
       "      <td>10.0</td>\n",
       "      <td>[American Factory: A Conversation with the Oba...</td>\n",
       "    </tr>\n",
       "  </tbody>\n",
       "</table>\n",
       "</div>"
      ],
      "text/plain": [
       "   movie_duration                                              title\n",
       "0             3.0                                           [Silent]\n",
       "1             5.0                                      [Sol Levante]\n",
       "2             8.0                                 [Cops and Robbers]\n",
       "3             9.0                                           [Canvas]\n",
       "4            10.0  [American Factory: A Conversation with the Oba..."
      ]
     },
     "execution_count": 41,
     "metadata": {},
     "output_type": "execute_result"
    }
   ],
   "source": [
    "movie_dur = df.groupby(\"movie_duration\")['title'].unique().reset_index()\n",
    "movie_dur.head()\n"
   ]
  },
  {
   "cell_type": "markdown",
   "id": "c353b4b4",
   "metadata": {},
   "source": [
    "### Top 20 Versatile Actors"
   ]
  },
  {
   "cell_type": "code",
   "execution_count": 42,
   "id": "0238964f",
   "metadata": {},
   "outputs": [
    {
     "data": {
      "text/html": [
       "<div>\n",
       "<style scoped>\n",
       "    .dataframe tbody tr th:only-of-type {\n",
       "        vertical-align: middle;\n",
       "    }\n",
       "\n",
       "    .dataframe tbody tr th {\n",
       "        vertical-align: top;\n",
       "    }\n",
       "\n",
       "    .dataframe thead th {\n",
       "        text-align: right;\n",
       "    }\n",
       "</style>\n",
       "<table border=\"1\" class=\"dataframe\">\n",
       "  <thead>\n",
       "    <tr style=\"text-align: right;\">\n",
       "      <th></th>\n",
       "      <th>genre</th>\n",
       "      <th>title</th>\n",
       "    </tr>\n",
       "    <tr>\n",
       "      <th>actors</th>\n",
       "      <th></th>\n",
       "      <th></th>\n",
       "    </tr>\n",
       "  </thead>\n",
       "  <tbody>\n",
       "    <tr>\n",
       "      <th>Ron Perlman</th>\n",
       "      <td>17</td>\n",
       "      <td>13</td>\n",
       "    </tr>\n",
       "    <tr>\n",
       "      <th>Gary Cole</th>\n",
       "      <td>16</td>\n",
       "      <td>11</td>\n",
       "    </tr>\n",
       "    <tr>\n",
       "      <th>Kiernan Shipka</th>\n",
       "      <td>16</td>\n",
       "      <td>9</td>\n",
       "    </tr>\n",
       "    <tr>\n",
       "      <th>Glenn Close</th>\n",
       "      <td>15</td>\n",
       "      <td>12</td>\n",
       "    </tr>\n",
       "    <tr>\n",
       "      <th>Anupam Kher</th>\n",
       "      <td>14</td>\n",
       "      <td>43</td>\n",
       "    </tr>\n",
       "    <tr>\n",
       "      <th>Samuel L. Jackson</th>\n",
       "      <td>14</td>\n",
       "      <td>24</td>\n",
       "    </tr>\n",
       "    <tr>\n",
       "      <th>Rajesh Sharma</th>\n",
       "      <td>14</td>\n",
       "      <td>18</td>\n",
       "    </tr>\n",
       "    <tr>\n",
       "      <th>Antonio Banderas</th>\n",
       "      <td>14</td>\n",
       "      <td>15</td>\n",
       "    </tr>\n",
       "    <tr>\n",
       "      <th>Ben Kingsley</th>\n",
       "      <td>14</td>\n",
       "      <td>15</td>\n",
       "    </tr>\n",
       "    <tr>\n",
       "      <th>Keith David</th>\n",
       "      <td>14</td>\n",
       "      <td>15</td>\n",
       "    </tr>\n",
       "    <tr>\n",
       "      <th>Guy Pearce</th>\n",
       "      <td>14</td>\n",
       "      <td>14</td>\n",
       "    </tr>\n",
       "    <tr>\n",
       "      <th>Jim Broadbent</th>\n",
       "      <td>14</td>\n",
       "      <td>13</td>\n",
       "    </tr>\n",
       "    <tr>\n",
       "      <th>John Leguizamo</th>\n",
       "      <td>14</td>\n",
       "      <td>12</td>\n",
       "    </tr>\n",
       "    <tr>\n",
       "      <th>Carla Gugino</th>\n",
       "      <td>14</td>\n",
       "      <td>11</td>\n",
       "    </tr>\n",
       "    <tr>\n",
       "      <th>Jay Baruchel</th>\n",
       "      <td>14</td>\n",
       "      <td>11</td>\n",
       "    </tr>\n",
       "    <tr>\n",
       "      <th>Keegan-Michael Key</th>\n",
       "      <td>14</td>\n",
       "      <td>11</td>\n",
       "    </tr>\n",
       "    <tr>\n",
       "      <th>Mae Whitman</th>\n",
       "      <td>14</td>\n",
       "      <td>9</td>\n",
       "    </tr>\n",
       "    <tr>\n",
       "      <th>Rosamund Pike</th>\n",
       "      <td>14</td>\n",
       "      <td>9</td>\n",
       "    </tr>\n",
       "    <tr>\n",
       "      <th>Nicholas Hoult</th>\n",
       "      <td>14</td>\n",
       "      <td>8</td>\n",
       "    </tr>\n",
       "  </tbody>\n",
       "</table>\n",
       "</div>"
      ],
      "text/plain": [
       "                    genre  title\n",
       "actors                          \n",
       "Ron Perlman            17     13\n",
       "Gary Cole              16     11\n",
       "Kiernan Shipka         16      9\n",
       "Glenn Close            15     12\n",
       "Anupam Kher            14     43\n",
       "Samuel L. Jackson      14     24\n",
       "Rajesh Sharma          14     18\n",
       "Antonio Banderas       14     15\n",
       "Ben Kingsley           14     15\n",
       "Keith David            14     15\n",
       "Guy Pearce             14     14\n",
       "Jim Broadbent          14     13\n",
       "John Leguizamo         14     12\n",
       "Carla Gugino           14     11\n",
       "Jay Baruchel           14     11\n",
       "Keegan-Michael Key     14     11\n",
       "Mae Whitman            14      9\n",
       "Rosamund Pike          14      9\n",
       "Nicholas Hoult         14      8"
      ]
     },
     "execution_count": 42,
     "metadata": {},
     "output_type": "execute_result"
    }
   ],
   "source": [
    "df.groupby(\"actors\")[\"genre\",\"title\"].aggregate({\n",
    " \"genre\":\"nunique\",\n",
    " \"title\":\"nunique\"\n",
    "}).sort_values(by = [\"genre\",\"title\"],ascending=[False,False]).head(20)[1:]"
   ]
  },
  {
   "cell_type": "markdown",
   "id": "97fd3c7b",
   "metadata": {},
   "source": [
    "### Top 20 versatile Directors"
   ]
  },
  {
   "cell_type": "code",
   "execution_count": 43,
   "id": "50181e66",
   "metadata": {},
   "outputs": [
    {
     "data": {
      "text/html": [
       "<div>\n",
       "<style scoped>\n",
       "    .dataframe tbody tr th:only-of-type {\n",
       "        vertical-align: middle;\n",
       "    }\n",
       "\n",
       "    .dataframe tbody tr th {\n",
       "        vertical-align: top;\n",
       "    }\n",
       "\n",
       "    .dataframe thead th {\n",
       "        text-align: right;\n",
       "    }\n",
       "</style>\n",
       "<table border=\"1\" class=\"dataframe\">\n",
       "  <thead>\n",
       "    <tr style=\"text-align: right;\">\n",
       "      <th></th>\n",
       "      <th>genre</th>\n",
       "      <th>title</th>\n",
       "    </tr>\n",
       "    <tr>\n",
       "      <th>directors</th>\n",
       "      <th></th>\n",
       "      <th></th>\n",
       "    </tr>\n",
       "  </thead>\n",
       "  <tbody>\n",
       "    <tr>\n",
       "      <th>Martin Scorsese</th>\n",
       "      <td>9</td>\n",
       "      <td>12</td>\n",
       "    </tr>\n",
       "    <tr>\n",
       "      <th>Anurag Kashyap</th>\n",
       "      <td>9</td>\n",
       "      <td>9</td>\n",
       "    </tr>\n",
       "    <tr>\n",
       "      <th>Priyadarshan</th>\n",
       "      <td>8</td>\n",
       "      <td>7</td>\n",
       "    </tr>\n",
       "    <tr>\n",
       "      <th>Abhishek Chaubey</th>\n",
       "      <td>8</td>\n",
       "      <td>5</td>\n",
       "    </tr>\n",
       "    <tr>\n",
       "      <th>Vishal Bhardwaj</th>\n",
       "      <td>8</td>\n",
       "      <td>5</td>\n",
       "    </tr>\n",
       "    <tr>\n",
       "      <th>Vikramaditya Motwane</th>\n",
       "      <td>8</td>\n",
       "      <td>4</td>\n",
       "    </tr>\n",
       "    <tr>\n",
       "      <th>Ifa Isfansyah</th>\n",
       "      <td>8</td>\n",
       "      <td>3</td>\n",
       "    </tr>\n",
       "    <tr>\n",
       "      <th>David Dhawan</th>\n",
       "      <td>7</td>\n",
       "      <td>9</td>\n",
       "    </tr>\n",
       "    <tr>\n",
       "      <th>Clint Eastwood</th>\n",
       "      <td>7</td>\n",
       "      <td>7</td>\n",
       "    </tr>\n",
       "    <tr>\n",
       "      <th>Ron Howard</th>\n",
       "      <td>7</td>\n",
       "      <td>7</td>\n",
       "    </tr>\n",
       "    <tr>\n",
       "      <th>Brad Anderson</th>\n",
       "      <td>7</td>\n",
       "      <td>4</td>\n",
       "    </tr>\n",
       "    <tr>\n",
       "      <th>Jeremy Saulnier</th>\n",
       "      <td>7</td>\n",
       "      <td>4</td>\n",
       "    </tr>\n",
       "    <tr>\n",
       "      <th>BB Sasore</th>\n",
       "      <td>7</td>\n",
       "      <td>3</td>\n",
       "    </tr>\n",
       "    <tr>\n",
       "      <th>Guillermo del Toro</th>\n",
       "      <td>7</td>\n",
       "      <td>3</td>\n",
       "    </tr>\n",
       "    <tr>\n",
       "      <th>Jalil Lespert</th>\n",
       "      <td>7</td>\n",
       "      <td>3</td>\n",
       "    </tr>\n",
       "    <tr>\n",
       "      <th>Julien Leclercq</th>\n",
       "      <td>7</td>\n",
       "      <td>3</td>\n",
       "    </tr>\n",
       "    <tr>\n",
       "      <th>Manolo Caro</th>\n",
       "      <td>7</td>\n",
       "      <td>3</td>\n",
       "    </tr>\n",
       "    <tr>\n",
       "      <th>Tim Burton</th>\n",
       "      <td>7</td>\n",
       "      <td>3</td>\n",
       "    </tr>\n",
       "    <tr>\n",
       "      <th>Youssef Chahine</th>\n",
       "      <td>6</td>\n",
       "      <td>12</td>\n",
       "    </tr>\n",
       "  </tbody>\n",
       "</table>\n",
       "</div>"
      ],
      "text/plain": [
       "                      genre  title\n",
       "directors                         \n",
       "Martin Scorsese           9     12\n",
       "Anurag Kashyap            9      9\n",
       "Priyadarshan              8      7\n",
       "Abhishek Chaubey          8      5\n",
       "Vishal Bhardwaj           8      5\n",
       "Vikramaditya Motwane      8      4\n",
       "Ifa Isfansyah             8      3\n",
       "David Dhawan              7      9\n",
       "Clint Eastwood            7      7\n",
       "Ron Howard                7      7\n",
       "Brad Anderson             7      4\n",
       "Jeremy Saulnier           7      4\n",
       "BB Sasore                 7      3\n",
       "Guillermo del Toro        7      3\n",
       "Jalil Lespert             7      3\n",
       "Julien Leclercq           7      3\n",
       "Manolo Caro               7      3\n",
       "Tim Burton                7      3\n",
       "Youssef Chahine           6     12"
      ]
     },
     "execution_count": 43,
     "metadata": {},
     "output_type": "execute_result"
    }
   ],
   "source": [
    "df.groupby(\"directors\")[\"genre\",\"title\"].aggregate({\n",
    " \"genre\":\"nunique\",\n",
    " \"title\":\"nunique\"\n",
    "}).sort_values(by = [\"genre\",\"title\"],ascending=[False,False]).head(20)[1:]"
   ]
  },
  {
   "cell_type": "markdown",
   "id": "8edeb8a3",
   "metadata": {},
   "source": [
    "### Shortest movie on Netflix (in min)"
   ]
  },
  {
   "cell_type": "code",
   "execution_count": 44,
   "id": "93ffa98d",
   "metadata": {},
   "outputs": [
    {
     "data": {
      "text/html": [
       "<div>\n",
       "<style scoped>\n",
       "    .dataframe tbody tr th:only-of-type {\n",
       "        vertical-align: middle;\n",
       "    }\n",
       "\n",
       "    .dataframe tbody tr th {\n",
       "        vertical-align: top;\n",
       "    }\n",
       "\n",
       "    .dataframe thead th {\n",
       "        text-align: right;\n",
       "    }\n",
       "</style>\n",
       "<table border=\"1\" class=\"dataframe\">\n",
       "  <thead>\n",
       "    <tr style=\"text-align: right;\">\n",
       "      <th></th>\n",
       "      <th>movie_duration</th>\n",
       "      <th>title</th>\n",
       "    </tr>\n",
       "  </thead>\n",
       "  <tbody>\n",
       "    <tr>\n",
       "      <th>0</th>\n",
       "      <td>3.0</td>\n",
       "      <td>[Silent]</td>\n",
       "    </tr>\n",
       "  </tbody>\n",
       "</table>\n",
       "</div>"
      ],
      "text/plain": [
       "   movie_duration     title\n",
       "0             3.0  [Silent]"
      ]
     },
     "execution_count": 44,
     "metadata": {},
     "output_type": "execute_result"
    }
   ],
   "source": [
    "# Shortest movie on Netflix\n",
    "\n",
    "shortest_movie = min(movie_dur['movie_duration'])\n",
    "shortest_movie = movie_dur[movie_dur['movie_duration'] == shortest_movie]\n",
    "shortest_movie"
   ]
  },
  {
   "cell_type": "markdown",
   "id": "3aae4ebc",
   "metadata": {},
   "source": [
    "### longest movie on Netflix (in min)"
   ]
  },
  {
   "cell_type": "code",
   "execution_count": 45,
   "id": "fccc27fa",
   "metadata": {},
   "outputs": [
    {
     "data": {
      "text/html": [
       "<div>\n",
       "<style scoped>\n",
       "    .dataframe tbody tr th:only-of-type {\n",
       "        vertical-align: middle;\n",
       "    }\n",
       "\n",
       "    .dataframe tbody tr th {\n",
       "        vertical-align: top;\n",
       "    }\n",
       "\n",
       "    .dataframe thead th {\n",
       "        text-align: right;\n",
       "    }\n",
       "</style>\n",
       "<table border=\"1\" class=\"dataframe\">\n",
       "  <thead>\n",
       "    <tr style=\"text-align: right;\">\n",
       "      <th></th>\n",
       "      <th>movie_duration</th>\n",
       "      <th>title</th>\n",
       "    </tr>\n",
       "  </thead>\n",
       "  <tbody>\n",
       "    <tr>\n",
       "      <th>204</th>\n",
       "      <td>312.0</td>\n",
       "      <td>[Black Mirror: Bandersnatch]</td>\n",
       "    </tr>\n",
       "  </tbody>\n",
       "</table>\n",
       "</div>"
      ],
      "text/plain": [
       "     movie_duration                         title\n",
       "204           312.0  [Black Mirror: Bandersnatch]"
      ]
     },
     "execution_count": 45,
     "metadata": {},
     "output_type": "execute_result"
    }
   ],
   "source": [
    "#longest movie on Netflix \n",
    "longest_movie = max(movie_dur['movie_duration'])\n",
    "longest_movie = movie_dur[movie_dur['movie_duration'] == longest_movie]\n",
    "longest_movie"
   ]
  },
  {
   "cell_type": "markdown",
   "id": "1b6c927f",
   "metadata": {},
   "source": [
    "### Movie duration density and graph"
   ]
  },
  {
   "cell_type": "code",
   "execution_count": 46,
   "id": "6b05a766",
   "metadata": {},
   "outputs": [
    {
     "data": {
      "image/png": "[encoded data removed]",
      "text/plain": [
       "<Figure size 432x432 with 3 Axes>"
      ]
     },
     "metadata": {},
     "output_type": "display_data"
    }
   ],
   "source": [
    "movie_duration_density =  df.groupby(\"movie_duration\")['title'].nunique().reset_index()\n",
    "movie_duration_density\n",
    "\n",
    "\n",
    "sns.jointplot(x='movie_duration', y='title', data=movie_duration_density, kind=\"reg\")\n",
    "plt.show()"
   ]
  },
  {
   "cell_type": "markdown",
   "id": "8d305c9d",
   "metadata": {},
   "source": [
    "### Most popular movie duration"
   ]
  },
  {
   "cell_type": "code",
   "execution_count": 47,
   "id": "c2e7f255",
   "metadata": {
    "scrolled": true
   },
   "outputs": [
    {
     "data": {
      "text/html": [
       "<div>\n",
       "<style scoped>\n",
       "    .dataframe tbody tr th:only-of-type {\n",
       "        vertical-align: middle;\n",
       "    }\n",
       "\n",
       "    .dataframe tbody tr th {\n",
       "        vertical-align: top;\n",
       "    }\n",
       "\n",
       "    .dataframe thead th {\n",
       "        text-align: right;\n",
       "    }\n",
       "</style>\n",
       "<table border=\"1\" class=\"dataframe\">\n",
       "  <thead>\n",
       "    <tr style=\"text-align: right;\">\n",
       "      <th></th>\n",
       "      <th>movie_duration</th>\n",
       "      <th>title</th>\n",
       "    </tr>\n",
       "  </thead>\n",
       "  <tbody>\n",
       "    <tr>\n",
       "      <th>84</th>\n",
       "      <td>90.0</td>\n",
       "      <td>152</td>\n",
       "    </tr>\n",
       "  </tbody>\n",
       "</table>\n",
       "</div>"
      ],
      "text/plain": [
       "    movie_duration  title\n",
       "84            90.0    152"
      ]
     },
     "execution_count": 47,
     "metadata": {},
     "output_type": "execute_result"
    }
   ],
   "source": [
    "most_popular_movie_length = movie_duration_density[movie_duration_density['title'] ==max(movie_duration_density['title'])]\n",
    "most_popular_movie_length"
   ]
  },
  {
   "cell_type": "markdown",
   "id": "a119859a",
   "metadata": {},
   "source": [
    "### Best time to launch a content "
   ]
  },
  {
   "cell_type": "code",
   "execution_count": 48,
   "id": "820c5810",
   "metadata": {},
   "outputs": [
    {
     "data": {
      "image/png": "[encoded data removed]",
      "text/plain": [
       "<Figure size 432x288 with 1 Axes>"
      ]
     },
     "metadata": {},
     "output_type": "display_data"
    }
   ],
   "source": [
    "plt.bar(df.groupby(df[\"date_added\"].dt.day_name())[\"title\"].nunique().sort_values(ascending=False).index,\n",
    " df.groupby(df[\"date_added\"].dt.day_name())[\"title\"].nunique().sort_values(ascending=False))\n",
    "plt.xticks(rotation = 45)\n",
    "plt.show()\n"
   ]
  },
  {
   "cell_type": "code",
   "execution_count": 49,
   "id": "ce1687dd",
   "metadata": {},
   "outputs": [
    {
     "data": {
      "image/png": "[encoded data removed]",
      "text/plain": [
       "<Figure size 432x288 with 1 Axes>"
      ]
     },
     "metadata": {},
     "output_type": "display_data"
    }
   ],
   "source": [
    "plt.bar(df.groupby(df[\"date_added\"].dt.month_name())[\"title\"].nunique().sort_values(ascending=False).index,\n",
    " df.groupby(df[\"date_added\"].dt.month_name())[\"title\"].nunique().sort_values(ascending=False))\n",
    "plt.xticks(rotation = 45)\n",
    "plt.show()\n"
   ]
  },
  {
   "cell_type": "markdown",
   "id": "f61b4690",
   "metadata": {},
   "source": [
    "### Top actors in India"
   ]
  },
  {
   "cell_type": "code",
   "execution_count": 50,
   "id": "78a67ee5",
   "metadata": {},
   "outputs": [
    {
     "data": {
      "text/html": [
       "<div>\n",
       "<style scoped>\n",
       "    .dataframe tbody tr th:only-of-type {\n",
       "        vertical-align: middle;\n",
       "    }\n",
       "\n",
       "    .dataframe tbody tr th {\n",
       "        vertical-align: top;\n",
       "    }\n",
       "\n",
       "    .dataframe thead th {\n",
       "        text-align: right;\n",
       "    }\n",
       "</style>\n",
       "<table border=\"1\" class=\"dataframe\">\n",
       "  <thead>\n",
       "    <tr style=\"text-align: right;\">\n",
       "      <th></th>\n",
       "      <th>countries</th>\n",
       "      <th>actors</th>\n",
       "      <th>title</th>\n",
       "    </tr>\n",
       "  </thead>\n",
       "  <tbody>\n",
       "    <tr>\n",
       "      <th>14233</th>\n",
       "      <td>India</td>\n",
       "      <td>Anupam Kher</td>\n",
       "      <td>113</td>\n",
       "    </tr>\n",
       "    <tr>\n",
       "      <th>16873</th>\n",
       "      <td>India</td>\n",
       "      <td>Shah Rukh Khan</td>\n",
       "      <td>98</td>\n",
       "    </tr>\n",
       "    <tr>\n",
       "      <th>17460</th>\n",
       "      <td>India</td>\n",
       "      <td>Unknown</td>\n",
       "      <td>97</td>\n",
       "    </tr>\n",
       "    <tr>\n",
       "      <th>15879</th>\n",
       "      <td>India</td>\n",
       "      <td>Naseeruddin Shah</td>\n",
       "      <td>95</td>\n",
       "    </tr>\n",
       "    <tr>\n",
       "      <th>14001</th>\n",
       "      <td>India</td>\n",
       "      <td>Akshay Kumar</td>\n",
       "      <td>87</td>\n",
       "    </tr>\n",
       "    <tr>\n",
       "      <th>16297</th>\n",
       "      <td>India</td>\n",
       "      <td>Radhika Apte</td>\n",
       "      <td>86</td>\n",
       "    </tr>\n",
       "    <tr>\n",
       "      <th>16079</th>\n",
       "      <td>India</td>\n",
       "      <td>Paresh Rawal</td>\n",
       "      <td>85</td>\n",
       "    </tr>\n",
       "    <tr>\n",
       "      <th>14073</th>\n",
       "      <td>India</td>\n",
       "      <td>Amitabh Bachchan</td>\n",
       "      <td>85</td>\n",
       "    </tr>\n",
       "    <tr>\n",
       "      <th>16029</th>\n",
       "      <td>India</td>\n",
       "      <td>Om Puri</td>\n",
       "      <td>79</td>\n",
       "    </tr>\n",
       "    <tr>\n",
       "      <th>15324</th>\n",
       "      <td>India</td>\n",
       "      <td>Kareena Kapoor</td>\n",
       "      <td>76</td>\n",
       "    </tr>\n",
       "  </tbody>\n",
       "</table>\n",
       "</div>"
      ],
      "text/plain": [
       "      countries            actors  title\n",
       "14233     India       Anupam Kher    113\n",
       "16873     India    Shah Rukh Khan     98\n",
       "17460     India           Unknown     97\n",
       "15879     India  Naseeruddin Shah     95\n",
       "14001     India      Akshay Kumar     87\n",
       "16297     India      Radhika Apte     86\n",
       "16079     India      Paresh Rawal     85\n",
       "14073     India  Amitabh Bachchan     85\n",
       "16029     India           Om Puri     79\n",
       "15324     India    Kareena Kapoor     76"
      ]
     },
     "execution_count": 50,
     "metadata": {},
     "output_type": "execute_result"
    }
   ],
   "source": [
    "# top actors in India\n",
    "\n",
    "top_10_actors_India = df.groupby(['countries','actors'])['title'].count().reset_index()\n",
    "top_10_actors_India[top_10_actors_India['countries'] == 'India'].sort_values('title', ascending=False).head(10)"
   ]
  },
  {
   "cell_type": "markdown",
   "id": "7a54a8b8",
   "metadata": {},
   "source": [
    "### Top directors in India"
   ]
  },
  {
   "cell_type": "code",
   "execution_count": 51,
   "id": "7585d704",
   "metadata": {},
   "outputs": [
    {
     "data": {
      "text/html": [
       "<div>\n",
       "<style scoped>\n",
       "    .dataframe tbody tr th:only-of-type {\n",
       "        vertical-align: middle;\n",
       "    }\n",
       "\n",
       "    .dataframe tbody tr th {\n",
       "        vertical-align: top;\n",
       "    }\n",
       "\n",
       "    .dataframe thead th {\n",
       "        text-align: right;\n",
       "    }\n",
       "</style>\n",
       "<table border=\"1\" class=\"dataframe\">\n",
       "  <thead>\n",
       "    <tr style=\"text-align: right;\">\n",
       "      <th></th>\n",
       "      <th>countries</th>\n",
       "      <th>directors</th>\n",
       "      <th>title</th>\n",
       "    </tr>\n",
       "  </thead>\n",
       "  <tbody>\n",
       "    <tr>\n",
       "      <th>2335</th>\n",
       "      <td>India</td>\n",
       "      <td>Unknown</td>\n",
       "      <td>995</td>\n",
       "    </tr>\n",
       "    <tr>\n",
       "      <th>1802</th>\n",
       "      <td>India</td>\n",
       "      <td>David Dhawan</td>\n",
       "      <td>270</td>\n",
       "    </tr>\n",
       "    <tr>\n",
       "      <th>1731</th>\n",
       "      <td>India</td>\n",
       "      <td>Anurag Kashyap</td>\n",
       "      <td>219</td>\n",
       "    </tr>\n",
       "    <tr>\n",
       "      <th>1819</th>\n",
       "      <td>India</td>\n",
       "      <td>Dibakar Banerjee</td>\n",
       "      <td>192</td>\n",
       "    </tr>\n",
       "    <tr>\n",
       "      <th>2268</th>\n",
       "      <td>India</td>\n",
       "      <td>Sooraj R. Barjatya</td>\n",
       "      <td>180</td>\n",
       "    </tr>\n",
       "    <tr>\n",
       "      <th>2386</th>\n",
       "      <td>India</td>\n",
       "      <td>Zoya Akhtar</td>\n",
       "      <td>168</td>\n",
       "    </tr>\n",
       "    <tr>\n",
       "      <th>2333</th>\n",
       "      <td>India</td>\n",
       "      <td>Umesh Mehra</td>\n",
       "      <td>162</td>\n",
       "    </tr>\n",
       "    <tr>\n",
       "      <th>2129</th>\n",
       "      <td>India</td>\n",
       "      <td>Ram Gopal Varma</td>\n",
       "      <td>158</td>\n",
       "    </tr>\n",
       "    <tr>\n",
       "      <th>2078</th>\n",
       "      <td>India</td>\n",
       "      <td>Priyadarshan</td>\n",
       "      <td>156</td>\n",
       "    </tr>\n",
       "    <tr>\n",
       "      <th>1906</th>\n",
       "      <td>India</td>\n",
       "      <td>Karan Johar</td>\n",
       "      <td>155</td>\n",
       "    </tr>\n",
       "  </tbody>\n",
       "</table>\n",
       "</div>"
      ],
      "text/plain": [
       "     countries           directors  title\n",
       "2335     India             Unknown    995\n",
       "1802     India        David Dhawan    270\n",
       "1731     India      Anurag Kashyap    219\n",
       "1819     India    Dibakar Banerjee    192\n",
       "2268     India  Sooraj R. Barjatya    180\n",
       "2386     India         Zoya Akhtar    168\n",
       "2333     India         Umesh Mehra    162\n",
       "2129     India     Ram Gopal Varma    158\n",
       "2078     India        Priyadarshan    156\n",
       "1906     India         Karan Johar    155"
      ]
     },
     "execution_count": 51,
     "metadata": {},
     "output_type": "execute_result"
    }
   ],
   "source": [
    "# top actors in India\n",
    "\n",
    "top_10_directors_India = df.groupby(['countries','directors'])['title'].count().reset_index()\n",
    "top_10_directors_India[top_10_directors_India['countries'] == 'India'].sort_values('title', ascending=False).head(10)"
   ]
  },
  {
   "cell_type": "markdown",
   "id": "9819a790",
   "metadata": {},
   "source": [
    "### genre wise distribution in India"
   ]
  },
  {
   "cell_type": "code",
   "execution_count": 52,
   "id": "901b23a2",
   "metadata": {},
   "outputs": [
    {
     "data": {
      "text/html": [
       "<div>\n",
       "<style scoped>\n",
       "    .dataframe tbody tr th:only-of-type {\n",
       "        vertical-align: middle;\n",
       "    }\n",
       "\n",
       "    .dataframe tbody tr th {\n",
       "        vertical-align: top;\n",
       "    }\n",
       "\n",
       "    .dataframe thead th {\n",
       "        text-align: right;\n",
       "    }\n",
       "</style>\n",
       "<table border=\"1\" class=\"dataframe\">\n",
       "  <thead>\n",
       "    <tr style=\"text-align: right;\">\n",
       "      <th></th>\n",
       "      <th>countries</th>\n",
       "      <th>genre</th>\n",
       "      <th>title</th>\n",
       "    </tr>\n",
       "  </thead>\n",
       "  <tbody>\n",
       "    <tr>\n",
       "      <th>526</th>\n",
       "      <td>India</td>\n",
       "      <td>International Movies</td>\n",
       "      <td>7059</td>\n",
       "    </tr>\n",
       "    <tr>\n",
       "      <th>522</th>\n",
       "      <td>India</td>\n",
       "      <td>Dramas</td>\n",
       "      <td>5569</td>\n",
       "    </tr>\n",
       "    <tr>\n",
       "      <th>517</th>\n",
       "      <td>India</td>\n",
       "      <td>Comedies</td>\n",
       "      <td>2685</td>\n",
       "    </tr>\n",
       "    <tr>\n",
       "      <th>525</th>\n",
       "      <td>India</td>\n",
       "      <td>Independent Movies</td>\n",
       "      <td>1394</td>\n",
       "    </tr>\n",
       "    <tr>\n",
       "      <th>513</th>\n",
       "      <td>India</td>\n",
       "      <td>Action &amp; Adventure</td>\n",
       "      <td>1187</td>\n",
       "    </tr>\n",
       "    <tr>\n",
       "      <th>532</th>\n",
       "      <td>India</td>\n",
       "      <td>Romantic Movies</td>\n",
       "      <td>931</td>\n",
       "    </tr>\n",
       "    <tr>\n",
       "      <th>530</th>\n",
       "      <td>India</td>\n",
       "      <td>Music &amp; Musicals</td>\n",
       "      <td>847</td>\n",
       "    </tr>\n",
       "    <tr>\n",
       "      <th>547</th>\n",
       "      <td>India</td>\n",
       "      <td>Thrillers</td>\n",
       "      <td>743</td>\n",
       "    </tr>\n",
       "    <tr>\n",
       "      <th>527</th>\n",
       "      <td>India</td>\n",
       "      <td>International TV Shows</td>\n",
       "      <td>428</td>\n",
       "    </tr>\n",
       "    <tr>\n",
       "      <th>524</th>\n",
       "      <td>India</td>\n",
       "      <td>Horror Movies</td>\n",
       "      <td>307</td>\n",
       "    </tr>\n",
       "    <tr>\n",
       "      <th>540</th>\n",
       "      <td>India</td>\n",
       "      <td>TV Dramas</td>\n",
       "      <td>272</td>\n",
       "    </tr>\n",
       "    <tr>\n",
       "      <th>515</th>\n",
       "      <td>India</td>\n",
       "      <td>Children &amp; Family Movies</td>\n",
       "      <td>225</td>\n",
       "    </tr>\n",
       "    <tr>\n",
       "      <th>544</th>\n",
       "      <td>India</td>\n",
       "      <td>TV Shows</td>\n",
       "      <td>207</td>\n",
       "    </tr>\n",
       "    <tr>\n",
       "      <th>539</th>\n",
       "      <td>India</td>\n",
       "      <td>TV Comedies</td>\n",
       "      <td>141</td>\n",
       "    </tr>\n",
       "    <tr>\n",
       "      <th>535</th>\n",
       "      <td>India</td>\n",
       "      <td>Sports Movies</td>\n",
       "      <td>121</td>\n",
       "    </tr>\n",
       "    <tr>\n",
       "      <th>534</th>\n",
       "      <td>India</td>\n",
       "      <td>Sci-Fi &amp; Fantasy</td>\n",
       "      <td>111</td>\n",
       "    </tr>\n",
       "    <tr>\n",
       "      <th>516</th>\n",
       "      <td>India</td>\n",
       "      <td>Classic Movies</td>\n",
       "      <td>98</td>\n",
       "    </tr>\n",
       "    <tr>\n",
       "      <th>533</th>\n",
       "      <td>India</td>\n",
       "      <td>Romantic TV Shows</td>\n",
       "      <td>68</td>\n",
       "    </tr>\n",
       "    <tr>\n",
       "      <th>518</th>\n",
       "      <td>India</td>\n",
       "      <td>Crime TV Shows</td>\n",
       "      <td>61</td>\n",
       "    </tr>\n",
       "    <tr>\n",
       "      <th>528</th>\n",
       "      <td>India</td>\n",
       "      <td>Kids' TV</td>\n",
       "      <td>57</td>\n",
       "    </tr>\n",
       "    <tr>\n",
       "      <th>538</th>\n",
       "      <td>India</td>\n",
       "      <td>TV Action &amp; Adventure</td>\n",
       "      <td>44</td>\n",
       "    </tr>\n",
       "    <tr>\n",
       "      <th>519</th>\n",
       "      <td>India</td>\n",
       "      <td>Cult Movies</td>\n",
       "      <td>42</td>\n",
       "    </tr>\n",
       "    <tr>\n",
       "      <th>529</th>\n",
       "      <td>India</td>\n",
       "      <td>LGBTQ Movies</td>\n",
       "      <td>33</td>\n",
       "    </tr>\n",
       "    <tr>\n",
       "      <th>520</th>\n",
       "      <td>India</td>\n",
       "      <td>Documentaries</td>\n",
       "      <td>32</td>\n",
       "    </tr>\n",
       "    <tr>\n",
       "      <th>541</th>\n",
       "      <td>India</td>\n",
       "      <td>TV Horror</td>\n",
       "      <td>28</td>\n",
       "    </tr>\n",
       "    <tr>\n",
       "      <th>543</th>\n",
       "      <td>India</td>\n",
       "      <td>TV Sci-Fi &amp; Fantasy</td>\n",
       "      <td>27</td>\n",
       "    </tr>\n",
       "    <tr>\n",
       "      <th>523</th>\n",
       "      <td>India</td>\n",
       "      <td>Faith &amp; Spirituality</td>\n",
       "      <td>20</td>\n",
       "    </tr>\n",
       "    <tr>\n",
       "      <th>514</th>\n",
       "      <td>India</td>\n",
       "      <td>British TV Shows</td>\n",
       "      <td>19</td>\n",
       "    </tr>\n",
       "    <tr>\n",
       "      <th>521</th>\n",
       "      <td>India</td>\n",
       "      <td>Docuseries</td>\n",
       "      <td>15</td>\n",
       "    </tr>\n",
       "    <tr>\n",
       "      <th>542</th>\n",
       "      <td>India</td>\n",
       "      <td>TV Mysteries</td>\n",
       "      <td>11</td>\n",
       "    </tr>\n",
       "    <tr>\n",
       "      <th>537</th>\n",
       "      <td>India</td>\n",
       "      <td>Stand-Up Comedy &amp; Talk Shows</td>\n",
       "      <td>8</td>\n",
       "    </tr>\n",
       "    <tr>\n",
       "      <th>536</th>\n",
       "      <td>India</td>\n",
       "      <td>Stand-Up Comedy</td>\n",
       "      <td>7</td>\n",
       "    </tr>\n",
       "    <tr>\n",
       "      <th>531</th>\n",
       "      <td>India</td>\n",
       "      <td>Reality TV</td>\n",
       "      <td>7</td>\n",
       "    </tr>\n",
       "    <tr>\n",
       "      <th>546</th>\n",
       "      <td>India</td>\n",
       "      <td>Teen TV Shows</td>\n",
       "      <td>7</td>\n",
       "    </tr>\n",
       "    <tr>\n",
       "      <th>545</th>\n",
       "      <td>India</td>\n",
       "      <td>TV Thrillers</td>\n",
       "      <td>3</td>\n",
       "    </tr>\n",
       "  </tbody>\n",
       "</table>\n",
       "</div>"
      ],
      "text/plain": [
       "    countries                         genre  title\n",
       "526     India          International Movies   7059\n",
       "522     India                        Dramas   5569\n",
       "517     India                      Comedies   2685\n",
       "525     India            Independent Movies   1394\n",
       "513     India            Action & Adventure   1187\n",
       "532     India               Romantic Movies    931\n",
       "530     India              Music & Musicals    847\n",
       "547     India                     Thrillers    743\n",
       "527     India        International TV Shows    428\n",
       "524     India                 Horror Movies    307\n",
       "540     India                     TV Dramas    272\n",
       "515     India      Children & Family Movies    225\n",
       "544     India                      TV Shows    207\n",
       "539     India                   TV Comedies    141\n",
       "535     India                 Sports Movies    121\n",
       "534     India              Sci-Fi & Fantasy    111\n",
       "516     India                Classic Movies     98\n",
       "533     India             Romantic TV Shows     68\n",
       "518     India                Crime TV Shows     61\n",
       "528     India                      Kids' TV     57\n",
       "538     India         TV Action & Adventure     44\n",
       "519     India                   Cult Movies     42\n",
       "529     India                  LGBTQ Movies     33\n",
       "520     India                 Documentaries     32\n",
       "541     India                     TV Horror     28\n",
       "543     India           TV Sci-Fi & Fantasy     27\n",
       "523     India          Faith & Spirituality     20\n",
       "514     India              British TV Shows     19\n",
       "521     India                    Docuseries     15\n",
       "542     India                  TV Mysteries     11\n",
       "537     India  Stand-Up Comedy & Talk Shows      8\n",
       "536     India               Stand-Up Comedy      7\n",
       "531     India                    Reality TV      7\n",
       "546     India                 Teen TV Shows      7\n",
       "545     India                  TV Thrillers      3"
      ]
     },
     "execution_count": 52,
     "metadata": {},
     "output_type": "execute_result"
    }
   ],
   "source": [
    "# genre wise distribution in India\n",
    "genre_wise_dis_in_india = df.groupby(['countries','genre'])['title'].count().reset_index()\n",
    "genre_wise_dis_in_india= genre_wise_dis_in_india[genre_wise_dis_in_india\n",
    "                                                 ['countries'] == \"India\"].sort_values('title',ascending = False)\n",
    "genre_wise_dis_in_india"
   ]
  },
  {
   "cell_type": "markdown",
   "id": "28572d6b",
   "metadata": {},
   "source": [
    "### Top 10 genre in India"
   ]
  },
  {
   "cell_type": "code",
   "execution_count": 53,
   "id": "02b7c4be",
   "metadata": {},
   "outputs": [
    {
     "data": {
      "text/html": [
       "<div>\n",
       "<style scoped>\n",
       "    .dataframe tbody tr th:only-of-type {\n",
       "        vertical-align: middle;\n",
       "    }\n",
       "\n",
       "    .dataframe tbody tr th {\n",
       "        vertical-align: top;\n",
       "    }\n",
       "\n",
       "    .dataframe thead th {\n",
       "        text-align: right;\n",
       "    }\n",
       "</style>\n",
       "<table border=\"1\" class=\"dataframe\">\n",
       "  <thead>\n",
       "    <tr style=\"text-align: right;\">\n",
       "      <th></th>\n",
       "      <th>countries</th>\n",
       "      <th>genre</th>\n",
       "      <th>title</th>\n",
       "    </tr>\n",
       "  </thead>\n",
       "  <tbody>\n",
       "    <tr>\n",
       "      <th>526</th>\n",
       "      <td>India</td>\n",
       "      <td>International Movies</td>\n",
       "      <td>7059</td>\n",
       "    </tr>\n",
       "    <tr>\n",
       "      <th>522</th>\n",
       "      <td>India</td>\n",
       "      <td>Dramas</td>\n",
       "      <td>5569</td>\n",
       "    </tr>\n",
       "    <tr>\n",
       "      <th>517</th>\n",
       "      <td>India</td>\n",
       "      <td>Comedies</td>\n",
       "      <td>2685</td>\n",
       "    </tr>\n",
       "    <tr>\n",
       "      <th>525</th>\n",
       "      <td>India</td>\n",
       "      <td>Independent Movies</td>\n",
       "      <td>1394</td>\n",
       "    </tr>\n",
       "    <tr>\n",
       "      <th>513</th>\n",
       "      <td>India</td>\n",
       "      <td>Action &amp; Adventure</td>\n",
       "      <td>1187</td>\n",
       "    </tr>\n",
       "    <tr>\n",
       "      <th>532</th>\n",
       "      <td>India</td>\n",
       "      <td>Romantic Movies</td>\n",
       "      <td>931</td>\n",
       "    </tr>\n",
       "    <tr>\n",
       "      <th>530</th>\n",
       "      <td>India</td>\n",
       "      <td>Music &amp; Musicals</td>\n",
       "      <td>847</td>\n",
       "    </tr>\n",
       "    <tr>\n",
       "      <th>547</th>\n",
       "      <td>India</td>\n",
       "      <td>Thrillers</td>\n",
       "      <td>743</td>\n",
       "    </tr>\n",
       "    <tr>\n",
       "      <th>527</th>\n",
       "      <td>India</td>\n",
       "      <td>International TV Shows</td>\n",
       "      <td>428</td>\n",
       "    </tr>\n",
       "    <tr>\n",
       "      <th>524</th>\n",
       "      <td>India</td>\n",
       "      <td>Horror Movies</td>\n",
       "      <td>307</td>\n",
       "    </tr>\n",
       "  </tbody>\n",
       "</table>\n",
       "</div>"
      ],
      "text/plain": [
       "    countries                   genre  title\n",
       "526     India    International Movies   7059\n",
       "522     India                  Dramas   5569\n",
       "517     India                Comedies   2685\n",
       "525     India      Independent Movies   1394\n",
       "513     India      Action & Adventure   1187\n",
       "532     India         Romantic Movies    931\n",
       "530     India        Music & Musicals    847\n",
       "547     India               Thrillers    743\n",
       "527     India  International TV Shows    428\n",
       "524     India           Horror Movies    307"
      ]
     },
     "execution_count": 53,
     "metadata": {},
     "output_type": "execute_result"
    }
   ],
   "source": [
    "top_10_genre_india =  genre_wise_dis_in_india.head(10)\n",
    "top_10_genre_india"
   ]
  },
  {
   "cell_type": "code",
   "execution_count": 54,
   "id": "27c5991d",
   "metadata": {},
   "outputs": [
    {
     "data": {
      "image/png": "[encoded data removed]",
      "text/plain": [
       "<Figure size 576x360 with 1 Axes>"
      ]
     },
     "metadata": {},
     "output_type": "display_data"
    }
   ],
   "source": [
    "# most popular genre in india top 10 polt\n",
    "\n",
    "plt.figure(figsize=(8,5))\n",
    "plt.bar(top_10_genre_india['genre'],top_10_genre_india['title'])\n",
    "plt.xlabel('Genre')\n",
    "plt.ylabel('number of content')\n",
    "plt.xticks(rotation=90)\n",
    "plt.show()"
   ]
  },
  {
   "cell_type": "code",
   "execution_count": 55,
   "id": "8fa58a78",
   "metadata": {},
   "outputs": [
    {
     "data": {
      "text/html": [
       "<div>\n",
       "<style scoped>\n",
       "    .dataframe tbody tr th:only-of-type {\n",
       "        vertical-align: middle;\n",
       "    }\n",
       "\n",
       "    .dataframe tbody tr th {\n",
       "        vertical-align: top;\n",
       "    }\n",
       "\n",
       "    .dataframe thead th {\n",
       "        text-align: right;\n",
       "    }\n",
       "</style>\n",
       "<table border=\"1\" class=\"dataframe\">\n",
       "  <thead>\n",
       "    <tr style=\"text-align: right;\">\n",
       "      <th></th>\n",
       "      <th>type</th>\n",
       "      <th>title</th>\n",
       "      <th>date_added</th>\n",
       "      <th>release_year</th>\n",
       "      <th>rating</th>\n",
       "      <th>year_added</th>\n",
       "      <th>month_added</th>\n",
       "      <th>actors</th>\n",
       "      <th>directors</th>\n",
       "      <th>countries</th>\n",
       "      <th>genre</th>\n",
       "      <th>movie_duration</th>\n",
       "      <th>TV_Show_duration</th>\n",
       "      <th>content_for</th>\n",
       "    </tr>\n",
       "  </thead>\n",
       "  <tbody>\n",
       "    <tr>\n",
       "      <th>0</th>\n",
       "      <td>Movie</td>\n",
       "      <td>Dick Johnson Is Dead</td>\n",
       "      <td>2021-09-25</td>\n",
       "      <td>2020</td>\n",
       "      <td>PG-13</td>\n",
       "      <td>2021.0</td>\n",
       "      <td>9.0</td>\n",
       "      <td>Unknown</td>\n",
       "      <td>Kirsten Johnson</td>\n",
       "      <td>United States</td>\n",
       "      <td>Documentaries</td>\n",
       "      <td>90.0</td>\n",
       "      <td>NaN</td>\n",
       "      <td>Teens</td>\n",
       "    </tr>\n",
       "    <tr>\n",
       "      <th>1</th>\n",
       "      <td>TV Show</td>\n",
       "      <td>Blood &amp; Water</td>\n",
       "      <td>2021-09-24</td>\n",
       "      <td>2021</td>\n",
       "      <td>TV-MA</td>\n",
       "      <td>2021.0</td>\n",
       "      <td>9.0</td>\n",
       "      <td>Ama Qamata</td>\n",
       "      <td>Unknown</td>\n",
       "      <td>South Africa</td>\n",
       "      <td>International TV Shows</td>\n",
       "      <td>NaN</td>\n",
       "      <td>2</td>\n",
       "      <td>Adults</td>\n",
       "    </tr>\n",
       "    <tr>\n",
       "      <th>2</th>\n",
       "      <td>TV Show</td>\n",
       "      <td>Blood &amp; Water</td>\n",
       "      <td>2021-09-24</td>\n",
       "      <td>2021</td>\n",
       "      <td>TV-MA</td>\n",
       "      <td>2021.0</td>\n",
       "      <td>9.0</td>\n",
       "      <td>Ama Qamata</td>\n",
       "      <td>Unknown</td>\n",
       "      <td>South Africa</td>\n",
       "      <td>TV Dramas</td>\n",
       "      <td>NaN</td>\n",
       "      <td>2</td>\n",
       "      <td>Adults</td>\n",
       "    </tr>\n",
       "    <tr>\n",
       "      <th>3</th>\n",
       "      <td>TV Show</td>\n",
       "      <td>Blood &amp; Water</td>\n",
       "      <td>2021-09-24</td>\n",
       "      <td>2021</td>\n",
       "      <td>TV-MA</td>\n",
       "      <td>2021.0</td>\n",
       "      <td>9.0</td>\n",
       "      <td>Ama Qamata</td>\n",
       "      <td>Unknown</td>\n",
       "      <td>South Africa</td>\n",
       "      <td>TV Mysteries</td>\n",
       "      <td>NaN</td>\n",
       "      <td>2</td>\n",
       "      <td>Adults</td>\n",
       "    </tr>\n",
       "    <tr>\n",
       "      <th>4</th>\n",
       "      <td>TV Show</td>\n",
       "      <td>Blood &amp; Water</td>\n",
       "      <td>2021-09-24</td>\n",
       "      <td>2021</td>\n",
       "      <td>TV-MA</td>\n",
       "      <td>2021.0</td>\n",
       "      <td>9.0</td>\n",
       "      <td>Khosi Ngema</td>\n",
       "      <td>Unknown</td>\n",
       "      <td>South Africa</td>\n",
       "      <td>International TV Shows</td>\n",
       "      <td>NaN</td>\n",
       "      <td>2</td>\n",
       "      <td>Adults</td>\n",
       "    </tr>\n",
       "  </tbody>\n",
       "</table>\n",
       "</div>"
      ],
      "text/plain": [
       "      type                 title date_added  release_year rating  year_added  month_added       actors        directors      countries                   genre  movie_duration TV_Show_duration content_for\n",
       "0    Movie  Dick Johnson Is Dead 2021-09-25          2020  PG-13      2021.0          9.0      Unknown  Kirsten Johnson  United States           Documentaries            90.0              NaN       Teens\n",
       "1  TV Show         Blood & Water 2021-09-24          2021  TV-MA      2021.0          9.0   Ama Qamata          Unknown   South Africa  International TV Shows             NaN                2      Adults\n",
       "2  TV Show         Blood & Water 2021-09-24          2021  TV-MA      2021.0          9.0   Ama Qamata          Unknown   South Africa               TV Dramas             NaN                2      Adults\n",
       "3  TV Show         Blood & Water 2021-09-24          2021  TV-MA      2021.0          9.0   Ama Qamata          Unknown   South Africa            TV Mysteries             NaN                2      Adults\n",
       "4  TV Show         Blood & Water 2021-09-24          2021  TV-MA      2021.0          9.0  Khosi Ngema          Unknown   South Africa  International TV Shows             NaN                2      Adults"
      ]
     },
     "execution_count": 55,
     "metadata": {},
     "output_type": "execute_result"
    }
   ],
   "source": [
    "df.head()"
   ]
  }
 ],
 "metadata": {
  "kernelspec": {
   "display_name": "Python 3 (ipykernel)",
   "language": "python",
   "name": "python3"
  },
  "language_info": {
   "codemirror_mode": {
    "name": "ipython",
    "version": 3
   },
   "file_extension": ".py",
   "mimetype": "text/x-python",
   "name": "python",
   "nbconvert_exporter": "python",
   "pygments_lexer": "ipython3",
   "version": "3.9.7"
  }
 },
 "nbformat": 4,
 "nbformat_minor": 5
}
